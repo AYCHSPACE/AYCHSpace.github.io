{
 "cells": [
  {
   "cell_type": "code",
   "execution_count": 40,
   "metadata": {
    "collapsed": true
   },
   "outputs": [],
   "source": [
    "import requests\n",
    "import pandas as pd\n",
    "import matplotlib.pyplot as plt\n",
    "%matplotlib inline"
   ]
  },
  {
   "cell_type": "code",
   "execution_count": 3,
   "metadata": {
    "collapsed": true
   },
   "outputs": [],
   "source": [
    "tf = requests.get('https://api.github.com/repos/tensorflow/tensorflow/stats/commit_activity')"
   ]
  },
  {
   "cell_type": "code",
   "execution_count": 5,
   "metadata": {
    "collapsed": false
   },
   "outputs": [
    {
     "data": {
      "text/plain": [
       "[{u'days': [0, 0, 0, 0, 0, 0, 0], u'total': 0, u'week': 1444521600},\n",
       " {u'days': [0, 0, 0, 0, 0, 0, 0], u'total': 0, u'week': 1445126400},\n",
       " {u'days': [0, 0, 0, 0, 0, 0, 0], u'total': 0, u'week': 1445731200},\n",
       " {u'days': [0, 0, 0, 0, 0, 3, 3], u'total': 6, u'week': 1446336000},\n",
       " {u'days': [10, 3, 2, 6, 7, 1, 0], u'total': 29, u'week': 1446940800},\n",
       " {u'days': [0, 3, 2, 6, 13, 4, 1], u'total': 29, u'week': 1447545600},\n",
       " {u'days': [2, 2, 10, 10, 0, 3, 0], u'total': 27, u'week': 1448150400},\n",
       " {u'days': [2, 2, 2, 3, 5, 14, 10], u'total': 38, u'week': 1448755200},\n",
       " {u'days': [12, 7, 11, 8, 7, 15, 0], u'total': 60, u'week': 1449360000},\n",
       " {u'days': [22, 16, 20, 15, 31, 18, 2], u'total': 124, u'week': 1449964800},\n",
       " {u'days': [13, 12, 14, 22, 3, 2, 15], u'total': 81, u'week': 1450569600},\n",
       " {u'days': [9, 6, 9, 6, 7, 4, 17], u'total': 58, u'week': 1451174400},\n",
       " {u'days': [17, 6, 10, 50, 37, 13, 4], u'total': 137, u'week': 1451779200},\n",
       " {u'days': [0, 20, 28, 21, 31, 35, 12], u'total': 147, u'week': 1452384000},\n",
       " {u'days': [10, 14, 14, 40, 21, 15, 11], u'total': 125, u'week': 1452988800},\n",
       " {u'days': [14, 24, 40, 28, 4, 20, 6], u'total': 136, u'week': 1453593600},\n",
       " {u'days': [2, 24, 20, 22, 31, 25, 14], u'total': 138, u'week': 1454198400},\n",
       " {u'days': [14, 34, 30, 38, 21, 30, 18], u'total': 185, u'week': 1454803200},\n",
       " {u'days': [14, 22, 31, 28, 40, 30, 7], u'total': 172, u'week': 1455408000},\n",
       " {u'days': [9, 23, 25, 28, 47, 29, 5], u'total': 166, u'week': 1456012800},\n",
       " {u'days': [9, 21, 23, 26, 30, 21, 11], u'total': 141, u'week': 1456617600},\n",
       " {u'days': [5, 39, 21, 29, 31, 25, 2], u'total': 152, u'week': 1457222400},\n",
       " {u'days': [10, 37, 35, 22, 31, 29, 6], u'total': 170, u'week': 1457827200},\n",
       " {u'days': [5, 28, 43, 41, 36, 36, 3], u'total': 192, u'week': 1458432000},\n",
       " {u'days': [0, 33, 27, 33, 26, 21, 3], u'total': 143, u'week': 1459036800},\n",
       " {u'days': [6, 22, 19, 19, 33, 28, 4], u'total': 131, u'week': 1459641600},\n",
       " {u'days': [3, 30, 37, 31, 28, 47, 7], u'total': 183, u'week': 1460246400},\n",
       " {u'days': [6, 27, 21, 42, 24, 17, 1], u'total': 138, u'week': 1460851200},\n",
       " {u'days': [2, 28, 23, 23, 28, 13, 3], u'total': 120, u'week': 1461456000},\n",
       " {u'days': [8, 32, 25, 33, 24, 14, 3], u'total': 139, u'week': 1462060800},\n",
       " {u'days': [7, 29, 35, 19, 39, 35, 0], u'total': 164, u'week': 1462665600},\n",
       " {u'days': [5, 36, 41, 20, 20, 34, 2], u'total': 158, u'week': 1463270400},\n",
       " {u'days': [5, 42, 48, 50, 55, 48, 11], u'total': 259, u'week': 1463875200},\n",
       " {u'days': [5, 7, 39, 25, 44, 54, 5], u'total': 179, u'week': 1464480000},\n",
       " {u'days': [5, 42, 44, 45, 26, 38, 18], u'total': 218, u'week': 1465084800},\n",
       " {u'days': [5, 39, 51, 56, 55, 18, 6], u'total': 230, u'week': 1465689600},\n",
       " {u'days': [0, 28, 32, 37, 32, 39, 3], u'total': 171, u'week': 1466294400},\n",
       " {u'days': [6, 31, 35, 31, 41, 36, 3], u'total': 183, u'week': 1466899200},\n",
       " {u'days': [2, 0, 0, 35, 37, 40, 4], u'total': 118, u'week': 1467504000},\n",
       " {u'days': [2, 47, 35, 46, 37, 31, 5], u'total': 203, u'week': 1468108800},\n",
       " {u'days': [3, 36, 39, 33, 30, 30, 5], u'total': 176, u'week': 1468713600},\n",
       " {u'days': [3, 30, 33, 32, 36, 31, 5], u'total': 170, u'week': 1469318400},\n",
       " {u'days': [4, 43, 30, 36, 31, 36, 2], u'total': 182, u'week': 1469923200},\n",
       " {u'days': [5, 37, 40, 45, 44, 38, 7], u'total': 216, u'week': 1470528000},\n",
       " {u'days': [3, 34, 46, 35, 47, 27, 5], u'total': 197, u'week': 1471132800},\n",
       " {u'days': [5, 44, 66, 32, 69, 55, 9], u'total': 280, u'week': 1471737600},\n",
       " {u'days': [9, 8, 40, 50, 43, 38, 6], u'total': 194, u'week': 1472342400},\n",
       " {u'days': [5, 4, 32, 36, 59, 54, 7], u'total': 197, u'week': 1472947200},\n",
       " {u'days': [5, 37, 52, 57, 48, 42, 14], u'total': 255, u'week': 1473552000},\n",
       " {u'days': [4, 37, 45, 69, 54, 58, 12], u'total': 279, u'week': 1474156800},\n",
       " {u'days': [2, 59, 52, 63, 39, 40, 1], u'total': 256, u'week': 1474761600},\n",
       " {u'days': [0, 4, 5, 2, 0, 0, 0], u'total': 11, u'week': 1475366400}]"
      ]
     },
     "execution_count": 5,
     "metadata": {},
     "output_type": "execute_result"
    }
   ],
   "source": [
    "tf.json()"
   ]
  },
  {
   "cell_type": "code",
   "execution_count": 7,
   "metadata": {
    "collapsed": true
   },
   "outputs": [],
   "source": [
    "tf = tf.json()"
   ]
  },
  {
   "cell_type": "code",
   "execution_count": 8,
   "metadata": {
    "collapsed": false
   },
   "outputs": [],
   "source": [
    "tfd = pd.DataFrame({'week': [_['week'] for _ in tf], 'tf': [_['total'] for _ in tf]})"
   ]
  },
  {
   "cell_type": "code",
   "execution_count": 14,
   "metadata": {
    "collapsed": false
   },
   "outputs": [],
   "source": [
    "caffe = requests.get('https://api.github.com/repos/BVLC/caffe/stats/commit_activity')"
   ]
  },
  {
   "cell_type": "code",
   "execution_count": 16,
   "metadata": {
    "collapsed": false
   },
   "outputs": [
    {
     "data": {
      "text/plain": [
       "[{u'days': [0, 0, 6, 1, 1, 7, 0], u'total': 15, u'week': 1444521600},\n",
       " {u'days': [1, 5, 0, 0, 2, 0, 0], u'total': 8, u'week': 1445126400},\n",
       " {u'days': [0, 0, 1, 0, 0, 1, 0], u'total': 2, u'week': 1445731200},\n",
       " {u'days': [0, 1, 2, 3, 2, 4, 2], u'total': 14, u'week': 1446336000},\n",
       " {u'days': [2, 1, 2, 0, 4, 2, 1], u'total': 12, u'week': 1446940800},\n",
       " {u'days': [0, 0, 1, 1, 1, 2, 0], u'total': 5, u'week': 1447545600},\n",
       " {u'days': [0, 0, 1, 2, 1, 1, 0], u'total': 5, u'week': 1448150400},\n",
       " {u'days': [1, 0, 0, 2, 1, 0, 0], u'total': 4, u'week': 1448755200},\n",
       " {u'days': [1, 0, 0, 1, 1, 0, 0], u'total': 3, u'week': 1449360000},\n",
       " {u'days': [0, 1, 0, 0, 0, 0, 0], u'total': 1, u'week': 1449964800},\n",
       " {u'days': [2, 0, 0, 0, 0, 0, 3], u'total': 5, u'week': 1450569600},\n",
       " {u'days': [2, 1, 1, 0, 0, 0, 0], u'total': 4, u'week': 1451174400},\n",
       " {u'days': [0, 0, 2, 1, 0, 0, 0], u'total': 3, u'week': 1451779200},\n",
       " {u'days': [0, 0, 0, 1, 1, 0, 0], u'total': 2, u'week': 1452384000},\n",
       " {u'days': [0, 0, 2, 2, 3, 5, 1], u'total': 13, u'week': 1452988800},\n",
       " {u'days': [0, 0, 2, 1, 0, 2, 0], u'total': 5, u'week': 1453593600},\n",
       " {u'days': [0, 0, 1, 0, 1, 1, 0], u'total': 3, u'week': 1454198400},\n",
       " {u'days': [0, 0, 1, 0, 0, 0, 0], u'total': 1, u'week': 1454803200},\n",
       " {u'days': [0, 1, 0, 0, 2, 0, 1], u'total': 4, u'week': 1455408000},\n",
       " {u'days': [0, 0, 5, 1, 4, 2, 2], u'total': 14, u'week': 1456012800},\n",
       " {u'days': [1, 8, 2, 1, 1, 3, 0], u'total': 16, u'week': 1456617600},\n",
       " {u'days': [0, 0, 0, 1, 0, 0, 0], u'total': 1, u'week': 1457222400},\n",
       " {u'days': [0, 0, 1, 0, 0, 0, 0], u'total': 1, u'week': 1457827200},\n",
       " {u'days': [0, 0, 0, 0, 0, 0, 0], u'total': 0, u'week': 1458432000},\n",
       " {u'days': [0, 0, 0, 1, 0, 0, 0], u'total': 1, u'week': 1459036800},\n",
       " {u'days': [0, 1, 1, 0, 0, 1, 0], u'total': 3, u'week': 1459641600},\n",
       " {u'days': [0, 1, 1, 4, 3, 1, 0], u'total': 10, u'week': 1460246400},\n",
       " {u'days': [0, 1, 0, 1, 0, 0, 1], u'total': 3, u'week': 1460851200},\n",
       " {u'days': [1, 0, 0, 4, 2, 1, 1], u'total': 9, u'week': 1461456000},\n",
       " {u'days': [0, 1, 0, 6, 1, 0, 0], u'total': 8, u'week': 1462060800},\n",
       " {u'days': [0, 1, 1, 1, 0, 3, 0], u'total': 6, u'week': 1462665600},\n",
       " {u'days': [0, 3, 1, 0, 0, 0, 0], u'total': 4, u'week': 1463270400},\n",
       " {u'days': [0, 1, 1, 1, 1, 0, 0], u'total': 4, u'week': 1463875200},\n",
       " {u'days': [0, 1, 1, 4, 1, 0, 0], u'total': 7, u'week': 1464480000},\n",
       " {u'days': [0, 0, 0, 0, 0, 0, 0], u'total': 0, u'week': 1465084800},\n",
       " {u'days': [0, 0, 0, 0, 0, 0, 0], u'total': 0, u'week': 1465689600},\n",
       " {u'days': [0, 0, 4, 1, 0, 0, 0], u'total': 5, u'week': 1466294400},\n",
       " {u'days': [0, 0, 2, 0, 0, 0, 0], u'total': 2, u'week': 1466899200},\n",
       " {u'days': [1, 0, 0, 0, 0, 1, 0], u'total': 2, u'week': 1467504000},\n",
       " {u'days': [0, 1, 1, 2, 0, 1, 0], u'total': 5, u'week': 1468108800},\n",
       " {u'days': [0, 0, 0, 0, 0, 0, 0], u'total': 0, u'week': 1468713600},\n",
       " {u'days': [0, 1, 2, 0, 0, 0, 0], u'total': 3, u'week': 1469318400},\n",
       " {u'days': [0, 0, 0, 0, 0, 0, 1], u'total': 1, u'week': 1469923200},\n",
       " {u'days': [0, 0, 0, 0, 0, 1, 0], u'total': 1, u'week': 1470528000},\n",
       " {u'days': [1, 1, 0, 0, 1, 0, 0], u'total': 3, u'week': 1471132800},\n",
       " {u'days': [0, 0, 0, 0, 0, 0, 2], u'total': 2, u'week': 1471737600},\n",
       " {u'days': [3, 2, 0, 0, 0, 0, 0], u'total': 5, u'week': 1472342400},\n",
       " {u'days': [0, 0, 0, 0, 0, 3, 0], u'total': 3, u'week': 1472947200},\n",
       " {u'days': [0, 0, 0, 0, 1, 0, 0], u'total': 1, u'week': 1473552000},\n",
       " {u'days': [0, 0, 0, 1, 0, 1, 0], u'total': 2, u'week': 1474156800},\n",
       " {u'days': [0, 0, 0, 0, 1, 1, 0], u'total': 2, u'week': 1474761600},\n",
       " {u'days': [0, 0, 0, 0, 0, 0, 0], u'total': 0, u'week': 1475366400}]"
      ]
     },
     "execution_count": 16,
     "metadata": {},
     "output_type": "execute_result"
    }
   ],
   "source": [
    "caffe.json()"
   ]
  },
  {
   "cell_type": "code",
   "execution_count": 17,
   "metadata": {
    "collapsed": false
   },
   "outputs": [],
   "source": [
    "caffe = caffe.json()"
   ]
  },
  {
   "cell_type": "code",
   "execution_count": 22,
   "metadata": {
    "collapsed": true
   },
   "outputs": [],
   "source": [
    "caffed = pd.DataFrame({'week': [_['week'] for _ in caffe], 'caffe': [_['total'] for _ in caffe]})"
   ]
  },
  {
   "cell_type": "code",
   "execution_count": 23,
   "metadata": {
    "collapsed": false
   },
   "outputs": [
    {
     "data": {
      "text/html": [
       "<div>\n",
       "<table border=\"1\" class=\"dataframe\">\n",
       "  <thead>\n",
       "    <tr style=\"text-align: right;\">\n",
       "      <th></th>\n",
       "      <th>caffe</th>\n",
       "      <th>week</th>\n",
       "    </tr>\n",
       "  </thead>\n",
       "  <tbody>\n",
       "    <tr>\n",
       "      <th>0</th>\n",
       "      <td>15</td>\n",
       "      <td>1444521600</td>\n",
       "    </tr>\n",
       "    <tr>\n",
       "      <th>1</th>\n",
       "      <td>8</td>\n",
       "      <td>1445126400</td>\n",
       "    </tr>\n",
       "    <tr>\n",
       "      <th>2</th>\n",
       "      <td>2</td>\n",
       "      <td>1445731200</td>\n",
       "    </tr>\n",
       "    <tr>\n",
       "      <th>3</th>\n",
       "      <td>14</td>\n",
       "      <td>1446336000</td>\n",
       "    </tr>\n",
       "    <tr>\n",
       "      <th>4</th>\n",
       "      <td>12</td>\n",
       "      <td>1446940800</td>\n",
       "    </tr>\n",
       "  </tbody>\n",
       "</table>\n",
       "</div>"
      ],
      "text/plain": [
       "   caffe        week\n",
       "0     15  1444521600\n",
       "1      8  1445126400\n",
       "2      2  1445731200\n",
       "3     14  1446336000\n",
       "4     12  1446940800"
      ]
     },
     "execution_count": 23,
     "metadata": {},
     "output_type": "execute_result"
    }
   ],
   "source": [
    "caffed.head()"
   ]
  },
  {
   "cell_type": "code",
   "execution_count": 24,
   "metadata": {
    "collapsed": false
   },
   "outputs": [
    {
     "data": {
      "text/html": [
       "<div>\n",
       "<table border=\"1\" class=\"dataframe\">\n",
       "  <thead>\n",
       "    <tr style=\"text-align: right;\">\n",
       "      <th></th>\n",
       "      <th>tf</th>\n",
       "      <th>week</th>\n",
       "    </tr>\n",
       "  </thead>\n",
       "  <tbody>\n",
       "    <tr>\n",
       "      <th>0</th>\n",
       "      <td>0</td>\n",
       "      <td>1444521600</td>\n",
       "    </tr>\n",
       "    <tr>\n",
       "      <th>1</th>\n",
       "      <td>0</td>\n",
       "      <td>1445126400</td>\n",
       "    </tr>\n",
       "    <tr>\n",
       "      <th>2</th>\n",
       "      <td>0</td>\n",
       "      <td>1445731200</td>\n",
       "    </tr>\n",
       "    <tr>\n",
       "      <th>3</th>\n",
       "      <td>6</td>\n",
       "      <td>1446336000</td>\n",
       "    </tr>\n",
       "    <tr>\n",
       "      <th>4</th>\n",
       "      <td>29</td>\n",
       "      <td>1446940800</td>\n",
       "    </tr>\n",
       "  </tbody>\n",
       "</table>\n",
       "</div>"
      ],
      "text/plain": [
       "   tf        week\n",
       "0   0  1444521600\n",
       "1   0  1445126400\n",
       "2   0  1445731200\n",
       "3   6  1446336000\n",
       "4  29  1446940800"
      ]
     },
     "execution_count": 24,
     "metadata": {},
     "output_type": "execute_result"
    }
   ],
   "source": [
    "tfd.head()"
   ]
  },
  {
   "cell_type": "code",
   "execution_count": 26,
   "metadata": {
    "collapsed": false
   },
   "outputs": [],
   "source": [
    "data = pd.merge(caffed, tfd)"
   ]
  },
  {
   "cell_type": "code",
   "execution_count": 33,
   "metadata": {
    "collapsed": false
   },
   "outputs": [
    {
     "data": {
      "text/html": [
       "<div>\n",
       "<table border=\"1\" class=\"dataframe\">\n",
       "  <thead>\n",
       "    <tr style=\"text-align: right;\">\n",
       "      <th></th>\n",
       "      <th>caffe</th>\n",
       "      <th>week</th>\n",
       "      <th>tf</th>\n",
       "    </tr>\n",
       "  </thead>\n",
       "  <tbody>\n",
       "    <tr>\n",
       "      <th>47</th>\n",
       "      <td>3</td>\n",
       "      <td>1472947200</td>\n",
       "      <td>197</td>\n",
       "    </tr>\n",
       "    <tr>\n",
       "      <th>48</th>\n",
       "      <td>1</td>\n",
       "      <td>1473552000</td>\n",
       "      <td>255</td>\n",
       "    </tr>\n",
       "    <tr>\n",
       "      <th>49</th>\n",
       "      <td>2</td>\n",
       "      <td>1474156800</td>\n",
       "      <td>279</td>\n",
       "    </tr>\n",
       "    <tr>\n",
       "      <th>50</th>\n",
       "      <td>2</td>\n",
       "      <td>1474761600</td>\n",
       "      <td>256</td>\n",
       "    </tr>\n",
       "    <tr>\n",
       "      <th>51</th>\n",
       "      <td>0</td>\n",
       "      <td>1475366400</td>\n",
       "      <td>11</td>\n",
       "    </tr>\n",
       "  </tbody>\n",
       "</table>\n",
       "</div>"
      ],
      "text/plain": [
       "    caffe        week   tf\n",
       "47      3  1472947200  197\n",
       "48      1  1473552000  255\n",
       "49      2  1474156800  279\n",
       "50      2  1474761600  256\n",
       "51      0  1475366400   11"
      ]
     },
     "execution_count": 33,
     "metadata": {},
     "output_type": "execute_result"
    }
   ],
   "source": [
    "data.tail()"
   ]
  },
  {
   "cell_type": "code",
   "execution_count": 36,
   "metadata": {
    "collapsed": false
   },
   "outputs": [],
   "source": [
    "data = data.iloc[:-1]"
   ]
  },
  {
   "cell_type": "code",
   "execution_count": 37,
   "metadata": {
    "collapsed": false
   },
   "outputs": [
    {
     "data": {
      "text/html": [
       "<div>\n",
       "<table border=\"1\" class=\"dataframe\">\n",
       "  <thead>\n",
       "    <tr style=\"text-align: right;\">\n",
       "      <th></th>\n",
       "      <th>caffe</th>\n",
       "      <th>week</th>\n",
       "      <th>tf</th>\n",
       "    </tr>\n",
       "  </thead>\n",
       "  <tbody>\n",
       "    <tr>\n",
       "      <th>46</th>\n",
       "      <td>5</td>\n",
       "      <td>1472342400</td>\n",
       "      <td>194</td>\n",
       "    </tr>\n",
       "    <tr>\n",
       "      <th>47</th>\n",
       "      <td>3</td>\n",
       "      <td>1472947200</td>\n",
       "      <td>197</td>\n",
       "    </tr>\n",
       "    <tr>\n",
       "      <th>48</th>\n",
       "      <td>1</td>\n",
       "      <td>1473552000</td>\n",
       "      <td>255</td>\n",
       "    </tr>\n",
       "    <tr>\n",
       "      <th>49</th>\n",
       "      <td>2</td>\n",
       "      <td>1474156800</td>\n",
       "      <td>279</td>\n",
       "    </tr>\n",
       "    <tr>\n",
       "      <th>50</th>\n",
       "      <td>2</td>\n",
       "      <td>1474761600</td>\n",
       "      <td>256</td>\n",
       "    </tr>\n",
       "  </tbody>\n",
       "</table>\n",
       "</div>"
      ],
      "text/plain": [
       "    caffe        week   tf\n",
       "46      5  1472342400  194\n",
       "47      3  1472947200  197\n",
       "48      1  1473552000  255\n",
       "49      2  1474156800  279\n",
       "50      2  1474761600  256"
      ]
     },
     "execution_count": 37,
     "metadata": {},
     "output_type": "execute_result"
    }
   ],
   "source": [
    "data.tail()"
   ]
  },
  {
   "cell_type": "code",
   "execution_count": 44,
   "metadata": {
    "collapsed": false
   },
   "outputs": [
    {
     "data": {
      "text/plain": [
       "<matplotlib.text.Text at 0x119e03350>"
      ]
     },
     "execution_count": 44,
     "metadata": {},
     "output_type": "execute_result"
    },
    {
     "data": {
      "image/png": "[encoded data removed]",
      "text/plain": [
       "<matplotlib.figure.Figure at 0x118f84d50>"
      ]
     },
     "metadata": {
      "image/png": {
       "height": 270,
       "width": 372
      }
     },
     "output_type": "display_data"
    }
   ],
   "source": [
    "data.plot.bar(x='week', subplots=True, sharey=True)\n",
    "plt.gca().axes.get_xaxis().set_ticks([])\n",
    "plt.xlabel('contributions per week for 50 full weeks until 2016-10-05')"
   ]
  },
  {
   "cell_type": "code",
   "execution_count": null,
   "metadata": {
    "collapsed": false
   },
   "outputs": [],
   "source": []
  }
 ],
 "metadata": {
  "kernelspec": {
   "display_name": "Python 2",
   "language": "python",
   "name": "python2"
  },
  "language_info": {
   "codemirror_mode": {
    "name": "ipython",
    "version": 2
   },
   "file_extension": ".py",
   "mimetype": "text/x-python",
   "name": "python",
   "nbconvert_exporter": "python",
   "pygments_lexer": "ipython2",
   "version": "2.7.11"
  }
 },
 "nbformat": 4,
 "nbformat_minor": 0
}
