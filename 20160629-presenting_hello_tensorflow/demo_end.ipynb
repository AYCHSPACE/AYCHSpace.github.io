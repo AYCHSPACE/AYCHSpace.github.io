{
 "cells": [
  {
   "cell_type": "markdown",
   "metadata": {},
   "source": [
    "# Hello, TensorFlow!"
   ]
  },
  {
   "cell_type": "markdown",
   "metadata": {},
   "source": [
    "* Names and execution in Python and TensorFlow\n",
    "* The simplest TensorFlow graph\n",
    "* The simplest TensorFlow neuron\n",
    "* See your graph in TensorBoard\n",
    "* Making the neuron learn\n",
    "* Training diagnostics in TensorBoard\n",
    "* Flowing onward"
   ]
  },
  {
   "cell_type": "markdown",
   "metadata": {},
   "source": [
    "*See the [O'Reilly post](https://www.oreilly.com/learning/hello-tensorflow) for more explanatory text.*"
   ]
  },
  {
   "cell_type": "markdown",
   "metadata": {},
   "source": [
    "---"
   ]
  },
  {
   "cell_type": "markdown",
   "metadata": {},
   "source": [
    "### Names and execution in Python and TensorFlow"
   ]
  },
  {
   "cell_type": "markdown",
   "metadata": {},
   "source": [
    "![An object has no name.](img/an_object_has_no_name.jpg)\n",
    "\n",
    "*Image courtesy of [Hadley Wickham](https://twitter.com/hadleywickham/status/732288980549390336).*"
   ]
  },
  {
   "cell_type": "code",
   "execution_count": 1,
   "metadata": {
    "collapsed": true
   },
   "outputs": [],
   "source": [
    "foo = []"
   ]
  },
  {
   "cell_type": "code",
   "execution_count": 2,
   "metadata": {
    "collapsed": true
   },
   "outputs": [],
   "source": [
    "bar = foo"
   ]
  },
  {
   "cell_type": "code",
   "execution_count": 3,
   "metadata": {
    "collapsed": false
   },
   "outputs": [
    {
     "data": {
      "text/plain": [
       "True"
      ]
     },
     "execution_count": 3,
     "metadata": {},
     "output_type": "execute_result"
    }
   ],
   "source": [
    "foo == bar"
   ]
  },
  {
   "cell_type": "code",
   "execution_count": 4,
   "metadata": {
    "collapsed": false
   },
   "outputs": [
    {
     "data": {
      "text/plain": [
       "True"
      ]
     },
     "execution_count": 4,
     "metadata": {},
     "output_type": "execute_result"
    }
   ],
   "source": [
    "foo is bar"
   ]
  },
  {
   "cell_type": "code",
   "execution_count": 5,
   "metadata": {
    "collapsed": false
   },
   "outputs": [
    {
     "data": {
      "text/plain": [
       "4359366272"
      ]
     },
     "execution_count": 5,
     "metadata": {},
     "output_type": "execute_result"
    }
   ],
   "source": [
    "id(foo)"
   ]
  },
  {
   "cell_type": "code",
   "execution_count": 6,
   "metadata": {
    "collapsed": false
   },
   "outputs": [
    {
     "data": {
      "text/plain": [
       "4359366272"
      ]
     },
     "execution_count": 6,
     "metadata": {},
     "output_type": "execute_result"
    }
   ],
   "source": [
    "id(bar)"
   ]
  },
  {
   "cell_type": "code",
   "execution_count": 7,
   "metadata": {
    "collapsed": true
   },
   "outputs": [],
   "source": [
    "foo.append(bar)"
   ]
  },
  {
   "cell_type": "code",
   "execution_count": 8,
   "metadata": {
    "collapsed": false
   },
   "outputs": [
    {
     "data": {
      "text/plain": [
       "[[...]]"
      ]
     },
     "execution_count": 8,
     "metadata": {},
     "output_type": "execute_result"
    }
   ],
   "source": [
    "foo"
   ]
  },
  {
   "cell_type": "markdown",
   "metadata": {},
   "source": [
    "![foo points to itself](img/foo_loop.png)\n",
    "\n",
    "*Image made with [draw.io](https://draw.io/).*"
   ]
  },
  {
   "cell_type": "markdown",
   "metadata": {},
   "source": [
    "---"
   ]
  },
  {
   "cell_type": "markdown",
   "metadata": {},
   "source": [
    "### The simplest TensorFlow graph"
   ]
  },
  {
   "cell_type": "code",
   "execution_count": 9,
   "metadata": {
    "collapsed": true
   },
   "outputs": [],
   "source": [
    "import tensorflow as tf"
   ]
  },
  {
   "cell_type": "code",
   "execution_count": 10,
   "metadata": {
    "collapsed": true
   },
   "outputs": [],
   "source": [
    "graph = tf.get_default_graph()"
   ]
  },
  {
   "cell_type": "code",
   "execution_count": 11,
   "metadata": {
    "collapsed": false,
    "scrolled": true
   },
   "outputs": [
    {
     "data": {
      "text/plain": [
       "[]"
      ]
     },
     "execution_count": 11,
     "metadata": {},
     "output_type": "execute_result"
    }
   ],
   "source": [
    "graph.get_operations()"
   ]
  },
  {
   "cell_type": "code",
   "execution_count": 12,
   "metadata": {
    "collapsed": true
   },
   "outputs": [],
   "source": [
    "input_value = tf.constant(1.0)"
   ]
  },
  {
   "cell_type": "code",
   "execution_count": 13,
   "metadata": {
    "collapsed": true
   },
   "outputs": [],
   "source": [
    "operations = graph.get_operations()"
   ]
  },
  {
   "cell_type": "code",
   "execution_count": 14,
   "metadata": {
    "collapsed": false
   },
   "outputs": [
    {
     "data": {
      "text/plain": [
       "[<tensorflow.python.framework.ops.Operation at 0x117967990>]"
      ]
     },
     "execution_count": 14,
     "metadata": {},
     "output_type": "execute_result"
    }
   ],
   "source": [
    "operations"
   ]
  },
  {
   "cell_type": "code",
   "execution_count": 15,
   "metadata": {
    "collapsed": false
   },
   "outputs": [
    {
     "data": {
      "text/plain": [
       "name: \"Const\"\n",
       "op: \"Const\"\n",
       "attr {\n",
       "  key: \"dtype\"\n",
       "  value {\n",
       "    type: DT_FLOAT\n",
       "  }\n",
       "}\n",
       "attr {\n",
       "  key: \"value\"\n",
       "  value {\n",
       "    tensor {\n",
       "      dtype: DT_FLOAT\n",
       "      tensor_shape {\n",
       "      }\n",
       "      float_val: 1.0\n",
       "    }\n",
       "  }\n",
       "}"
      ]
     },
     "execution_count": 15,
     "metadata": {},
     "output_type": "execute_result"
    }
   ],
   "source": [
    "operations[0].node_def"
   ]
  },
  {
   "cell_type": "code",
   "execution_count": 16,
   "metadata": {
    "collapsed": false
   },
   "outputs": [
    {
     "data": {
      "text/plain": [
       "<tf.Tensor 'Const:0' shape=() dtype=float32>"
      ]
     },
     "execution_count": 16,
     "metadata": {},
     "output_type": "execute_result"
    }
   ],
   "source": [
    "input_value"
   ]
  },
  {
   "cell_type": "code",
   "execution_count": 17,
   "metadata": {
    "collapsed": true
   },
   "outputs": [],
   "source": [
    "sess = tf.Session()"
   ]
  },
  {
   "cell_type": "code",
   "execution_count": 18,
   "metadata": {
    "collapsed": false
   },
   "outputs": [
    {
     "data": {
      "text/plain": [
       "1.0"
      ]
     },
     "execution_count": 18,
     "metadata": {},
     "output_type": "execute_result"
    }
   ],
   "source": [
    "sess.run(input_value)"
   ]
  },
  {
   "cell_type": "markdown",
   "metadata": {},
   "source": [
    "### The simplest TensorFlow neuron"
   ]
  },
  {
   "cell_type": "code",
   "execution_count": 19,
   "metadata": {
    "collapsed": true
   },
   "outputs": [],
   "source": [
    "weight = tf.Variable(0.8)"
   ]
  },
  {
   "cell_type": "code",
   "execution_count": 20,
   "metadata": {
    "collapsed": false
   },
   "outputs": [
    {
     "name": "stdout",
     "output_type": "stream",
     "text": [
      "Const\n",
      "Variable/initial_value\n",
      "Variable\n",
      "Variable/Assign\n",
      "Variable/read\n"
     ]
    }
   ],
   "source": [
    "for op in graph.get_operations(): print(op.name)"
   ]
  },
  {
   "cell_type": "markdown",
   "metadata": {},
   "source": [
    "(The parentheses for `print` are necessary for Python 3 but optional for Python 2.)"
   ]
  },
  {
   "cell_type": "code",
   "execution_count": 21,
   "metadata": {
    "collapsed": true
   },
   "outputs": [],
   "source": [
    "output_value = weight * input_value"
   ]
  },
  {
   "cell_type": "code",
   "execution_count": 22,
   "metadata": {
    "collapsed": true
   },
   "outputs": [],
   "source": [
    "op = graph.get_operations()[-1]"
   ]
  },
  {
   "cell_type": "code",
   "execution_count": 23,
   "metadata": {
    "collapsed": false
   },
   "outputs": [
    {
     "data": {
      "text/plain": [
       "u'mul'"
      ]
     },
     "execution_count": 23,
     "metadata": {},
     "output_type": "execute_result"
    }
   ],
   "source": [
    "op.name"
   ]
  },
  {
   "cell_type": "code",
   "execution_count": 24,
   "metadata": {
    "collapsed": false
   },
   "outputs": [
    {
     "name": "stdout",
     "output_type": "stream",
     "text": [
      "Tensor(\"Variable/read:0\", shape=(), dtype=float32)\n",
      "Tensor(\"Const:0\", shape=(), dtype=float32)\n"
     ]
    }
   ],
   "source": [
    "for op_input in op.inputs: print(op_input)"
   ]
  },
  {
   "cell_type": "code",
   "execution_count": 25,
   "metadata": {
    "collapsed": true
   },
   "outputs": [],
   "source": [
    "init = tf.initialize_all_variables()"
   ]
  },
  {
   "cell_type": "code",
   "execution_count": 26,
   "metadata": {
    "collapsed": true
   },
   "outputs": [],
   "source": [
    "sess.run(init)"
   ]
  },
  {
   "cell_type": "code",
   "execution_count": 27,
   "metadata": {
    "collapsed": false
   },
   "outputs": [
    {
     "data": {
      "text/plain": [
       "0.80000001"
      ]
     },
     "execution_count": 27,
     "metadata": {},
     "output_type": "execute_result"
    }
   ],
   "source": [
    "sess.run(output_value)"
   ]
  },
  {
   "cell_type": "markdown",
   "metadata": {},
   "source": [
    "This is the neuron's \"inference\" or \"forward pass\"."
   ]
  },
  {
   "cell_type": "markdown",
   "metadata": {},
   "source": [
    "---"
   ]
  },
  {
   "cell_type": "markdown",
   "metadata": {},
   "source": [
    "### See your graph in TensorBoard"
   ]
  },
  {
   "cell_type": "code",
   "execution_count": 28,
   "metadata": {
    "collapsed": true
   },
   "outputs": [],
   "source": [
    "tf.reset_default_graph()\n",
    "sess = tf.Session()\n",
    "!rm -rf log_simple_graph\n",
    "!rm -rf log_simple_stat"
   ]
  },
  {
   "cell_type": "code",
   "execution_count": 29,
   "metadata": {
    "collapsed": true
   },
   "outputs": [],
   "source": [
    "x = tf.constant(1.0, name='input')\n",
    "w = tf.Variable(0.8, name='weight')\n",
    "y = tf.mul(w, x, name='output')"
   ]
  },
  {
   "cell_type": "code",
   "execution_count": 30,
   "metadata": {
    "collapsed": true
   },
   "outputs": [],
   "source": [
    "summary_writer = tf.train.SummaryWriter('log_simple_graph', sess.graph)"
   ]
  },
  {
   "cell_type": "code",
   "execution_count": 31,
   "metadata": {
    "collapsed": false,
    "scrolled": true
   },
   "outputs": [
    {
     "name": "stdout",
     "output_type": "stream",
     "text": [
      "Starting TensorBoard 16 on port 6006\n",
      "(You can navigate to http://0.0.0.0:6006)\n",
      "127.0.0.1 - - [29/Jun/2016 16:35:05] \"GET / HTTP/1.1\" 200 -\n",
      "127.0.0.1 - - [29/Jun/2016 16:35:05] \"GET /lib/css/global.css HTTP/1.1\" 200 -\n",
      "127.0.0.1 - - [29/Jun/2016 16:35:05] \"GET /external/lodash/lodash.min.js HTTP/1.1\" 200 -\n",
      "127.0.0.1 - - [29/Jun/2016 16:35:05] \"GET /external/d3/d3.min.js HTTP/1.1\" 200 -\n",
      "127.0.0.1 - - [29/Jun/2016 16:35:05] \"GET /external/plottable/plottable.css HTTP/1.1\" 200 -\n",
      "127.0.0.1 - - [29/Jun/2016 16:35:05] \"GET /external/plottable/plottable.min.js HTTP/1.1\" 200 -\n",
      "127.0.0.1 - - [29/Jun/2016 16:35:05] \"GET /external/graphlib/dist/graphlib.core.min.js HTTP/1.1\" 200 -\n",
      "127.0.0.1 - - [29/Jun/2016 16:35:05] \"GET /external/dagre/dist/dagre.core.min.js HTTP/1.1\" 200 -\n",
      "127.0.0.1 - - [29/Jun/2016 16:35:05] \"GET /external/webcomponentsjs/webcomponents-lite.min.js HTTP/1.1\" 200 -\n",
      "127.0.0.1 - - [29/Jun/2016 16:35:05] \"GET /external/polymer/polymer.html HTTP/1.1\" 200 -\n",
      "127.0.0.1 - - [29/Jun/2016 16:35:05] \"GET /external/iron-ajax/iron-ajax.html HTTP/1.1\" 200 -\n",
      "127.0.0.1 - - [29/Jun/2016 16:35:05] \"GET /external/iron-collapse/iron-collapse.html HTTP/1.1\" 200 -\n",
      "127.0.0.1 - - [29/Jun/2016 16:35:05] \"GET /external/iron-list/iron-list.html HTTP/1.1\" 200 -\n",
      "127.0.0.1 - - [29/Jun/2016 16:35:05] \"GET /external/paper-button/paper-button.html HTTP/1.1\" 200 -\n",
      "127.0.0.1 - - [29/Jun/2016 16:35:05] \"GET /external/paper-checkbox/paper-checkbox.html HTTP/1.1\" 200 -\n",
      "127.0.0.1 - - [29/Jun/2016 16:35:05] \"GET /external/paper-dropdown-menu/paper-dropdown-menu.html HTTP/1.1\" 200 -\n",
      "127.0.0.1 - - [29/Jun/2016 16:35:05] \"GET /external/paper-header-panel/paper-header-panel.html HTTP/1.1\" 200 -\n",
      "127.0.0.1 - - [29/Jun/2016 16:35:05] \"GET /external/paper-icon-button/paper-icon-button.html HTTP/1.1\" 200 -\n",
      "127.0.0.1 - - [29/Jun/2016 16:35:05] \"GET /external/paper-input/paper-input.html HTTP/1.1\" 200 -\n",
      "127.0.0.1 - - [29/Jun/2016 16:35:05] \"GET /external/paper-item/paper-item.html HTTP/1.1\" 200 -\n",
      "127.0.0.1 - - [29/Jun/2016 16:35:05] \"GET /external/paper-menu/paper-menu.html HTTP/1.1\" 200 -\n",
      "127.0.0.1 - - [29/Jun/2016 16:35:05] \"GET /external/paper-progress/paper-progress.html HTTP/1.1\" 200 -\n",
      "127.0.0.1 - - [29/Jun/2016 16:35:05] \"GET /external/paper-radio-button/paper-radio-button.html HTTP/1.1\" 200 -\n",
      "127.0.0.1 - - [29/Jun/2016 16:35:05] \"GET /external/paper-radio-group/paper-radio-group.html HTTP/1.1\" 200 -\n",
      "127.0.0.1 - - [29/Jun/2016 16:35:05] \"GET /external/paper-slider/paper-slider.html HTTP/1.1\" 200 -\n",
      "127.0.0.1 - - [29/Jun/2016 16:35:05] \"GET /external/paper-styles/paper-styles.html HTTP/1.1\" 200 -\n",
      "127.0.0.1 - - [29/Jun/2016 16:35:05] \"GET /external/paper-toggle-button/paper-toggle-button.html HTTP/1.1\" 200 -\n",
      "127.0.0.1 - - [29/Jun/2016 16:35:05] \"GET /external/paper-toolbar/paper-toolbar.html HTTP/1.1\" 200 -\n",
      "127.0.0.1 - - [29/Jun/2016 16:35:05] \"GET /external/paper-tabs/paper-tabs.html HTTP/1.1\" 200 -\n",
      "127.0.0.1 - - [29/Jun/2016 16:35:05] \"GET /dist/tf-tensorboard.html HTTP/1.1\" 200 -\n",
      "127.0.0.1 - - [29/Jun/2016 16:35:05] \"GET /external/polymer/polymer-mini.html HTTP/1.1\" 200 -\n",
      "127.0.0.1 - - [29/Jun/2016 16:35:05] \"GET /external/polymer/polymer-micro.html HTTP/1.1\" 200 -\n",
      "127.0.0.1 - - [29/Jun/2016 16:35:06] \"GET /external/iron-resizable-behavior/iron-resizable-behavior.html HTTP/1.1\" 200 -\n",
      "127.0.0.1 - - [29/Jun/2016 16:35:06] \"GET /external/iron-range-behavior/iron-range-behavior.html HTTP/1.1\" 200 -\n",
      "127.0.0.1 - - [29/Jun/2016 16:35:06] \"GET /external/paper-styles/color.html HTTP/1.1\" 200 -\n",
      "127.0.0.1 - - [29/Jun/2016 16:35:06] \"GET /external/iron-flex-layout/iron-flex-layout.html HTTP/1.1\" 200 -\n",
      "127.0.0.1 - - [29/Jun/2016 16:35:06] \"GET /external/iron-form-element-behavior/iron-form-element-behavior.html HTTP/1.1\" 200 -\n",
      "127.0.0.1 - - [29/Jun/2016 16:35:06] \"GET /external/iron-input/iron-input.html HTTP/1.1\" 200 -\n",
      "127.0.0.1 - - [29/Jun/2016 16:35:06] \"GET /external/paper-input/paper-input-behavior.html HTTP/1.1\" 200 -\n",
      "127.0.0.1 - - [29/Jun/2016 16:35:06] \"GET /external/paper-input/paper-input-char-counter.html HTTP/1.1\" 200 -\n",
      "127.0.0.1 - - [29/Jun/2016 16:35:06] \"GET /external/paper-input/paper-input-container.html HTTP/1.1\" 200 -\n",
      "127.0.0.1 - - [29/Jun/2016 16:35:06] \"GET /external/paper-styles/default-theme.html HTTP/1.1\" 200 -\n",
      "127.0.0.1 - - [29/Jun/2016 16:35:06] \"GET /external/paper-input/paper-input-error.html HTTP/1.1\" 200 -\n",
      "127.0.0.1 - - [29/Jun/2016 16:35:06] \"GET /external/paper-behaviors/paper-checked-element-behavior.html HTTP/1.1\" 200 -\n",
      "127.0.0.1 - - [29/Jun/2016 16:35:06] \"GET /external/iron-icon/iron-icon.html HTTP/1.1\" 200 -\n",
      "127.0.0.1 - - [29/Jun/2016 16:35:06] \"GET /external/paper-behaviors/paper-button-behavior.html HTTP/1.1\" 200 -\n",
      "127.0.0.1 - - [29/Jun/2016 16:35:06] \"GET /external/paper-behaviors/paper-inky-focus-behavior.html HTTP/1.1\" 200 -\n",
      "127.0.0.1 - - [29/Jun/2016 16:35:06] \"GET /external/paper-ripple/paper-ripple.html HTTP/1.1\" 200 -\n",
      "127.0.0.1 - - [29/Jun/2016 16:35:06] \"GET /external/paper-item/paper-item-behavior.html HTTP/1.1\" 200 -\n",
      "127.0.0.1 - - [29/Jun/2016 16:35:06] \"GET /external/paper-item/paper-item-shared-styles.html HTTP/1.1\" 200 -\n",
      "127.0.0.1 - - [29/Jun/2016 16:35:06] \"GET /external/paper-menu-button/paper-menu-button.html HTTP/1.1\" 200 -\n",
      "127.0.0.1 - - [29/Jun/2016 16:35:06] \"GET /external/iron-a11y-keys-behavior/iron-a11y-keys-behavior.html HTTP/1.1\" 200 -\n",
      "127.0.0.1 - - [29/Jun/2016 16:35:06] \"GET /external/iron-behaviors/iron-control-state.html HTTP/1.1\" 200 -\n",
      "127.0.0.1 - - [29/Jun/2016 16:35:06] \"GET /external/iron-behaviors/iron-button-state.html HTTP/1.1\" 200 -\n",
      "127.0.0.1 - - [29/Jun/2016 16:35:06] \"GET /external/iron-validatable-behavior/iron-validatable-behavior.html HTTP/1.1\" 200 -\n",
      "127.0.0.1 - - [29/Jun/2016 16:35:06] \"GET /external/iron-icons/iron-icons.html HTTP/1.1\" 200 -\n",
      "127.0.0.1 - - [29/Jun/2016 16:35:06] \"GET /external/iron-ajax/iron-request.html HTTP/1.1\" 200 -\n",
      "127.0.0.1 - - [29/Jun/2016 16:35:06] \"GET /external/iron-menu-behavior/iron-menubar-behavior.html HTTP/1.1\" 200 -\n",
      "127.0.0.1 - - [29/Jun/2016 16:35:06] \"GET /external/paper-tabs/paper-tabs-icons.html HTTP/1.1\" 200 -\n",
      "127.0.0.1 - - [29/Jun/2016 16:35:06] \"GET /external/paper-tabs/paper-tab.html HTTP/1.1\" 200 -\n",
      "127.0.0.1 - - [29/Jun/2016 16:35:06] \"GET /external/iron-selector/iron-selectable.html HTTP/1.1\" 200 -\n",
      "127.0.0.1 - - [29/Jun/2016 16:35:06] \"GET /external/paper-material/paper-material.html HTTP/1.1\" 200 -\n",
      "127.0.0.1 - - [29/Jun/2016 16:35:06] \"GET /external/iron-flex-layout/classes/iron-flex-layout.html HTTP/1.1\" 200 -\n",
      "127.0.0.1 - - [29/Jun/2016 16:35:06] \"GET /external/paper-styles/shadow.html HTTP/1.1\" 200 -\n",
      "127.0.0.1 - - [29/Jun/2016 16:35:06] \"GET /external/paper-styles/typography.html HTTP/1.1\" 200 -\n",
      "127.0.0.1 - - [29/Jun/2016 16:35:06] \"GET /external/iron-menu-behavior/iron-menu-behavior.html HTTP/1.1\" 200 -\n",
      "127.0.0.1 - - [29/Jun/2016 16:35:06] \"GET /external/paper-menu/paper-menu-shared-styles.html HTTP/1.1\" 200 -\n",
      "127.0.0.1 - - [29/Jun/2016 16:35:06] \"GET /external/iron-a11y-announcer/iron-a11y-announcer.html HTTP/1.1\" 200 -\n",
      "127.0.0.1 - - [29/Jun/2016 16:35:06] \"GET /external/paper-input/paper-input-addon-behavior.html HTTP/1.1\" 200 -\n",
      "127.0.0.1 - - [29/Jun/2016 16:35:06] \"GET /external/iron-checked-element-behavior/iron-checked-element-behavior.html HTTP/1.1\" 200 -\n",
      "127.0.0.1 - - [29/Jun/2016 16:35:06] \"GET /external/iron-meta/iron-meta.html HTTP/1.1\" 200 -\n",
      "127.0.0.1 - - [29/Jun/2016 16:35:06] \"GET /external/paper-behaviors/paper-ripple-behavior.html HTTP/1.1\" 200 -\n",
      "127.0.0.1 - - [29/Jun/2016 16:35:06] \"GET /external/iron-dropdown/iron-dropdown.html HTTP/1.1\" 200 -\n",
      "127.0.0.1 - - [29/Jun/2016 16:35:06] \"GET /external/neon-animation/animations/fade-out-animation.html HTTP/1.1\" 200 -\n",
      "127.0.0.1 - - [29/Jun/2016 16:35:06] \"GET /external/neon-animation/animations/fade-in-animation.html HTTP/1.1\" 200 -\n",
      "127.0.0.1 - - [29/Jun/2016 16:35:06] \"GET /external/paper-menu-button/paper-menu-button-animations.html HTTP/1.1\" 200 -\n",
      "127.0.0.1 - - [29/Jun/2016 16:35:06] \"GET /external/iron-iconset-svg/iron-iconset-svg.html HTTP/1.1\" 200 -\n",
      "127.0.0.1 - - [29/Jun/2016 16:35:06] \"GET /external/promise-polyfill/promise-polyfill-lite.html HTTP/1.1\" 200 -\n",
      "127.0.0.1 - - [29/Jun/2016 16:35:06] \"GET /external/paper-material/paper-material-shared-styles.html HTTP/1.1\" 200 -\n",
      "127.0.0.1 - - [29/Jun/2016 16:35:06] \"GET /external/iron-selector/iron-selection.html HTTP/1.1\" 200 -\n",
      "127.0.0.1 - - [29/Jun/2016 16:35:06] \"GET /external/iron-flex-layout/classes/iron-shadow-flex-layout.html HTTP/1.1\" 200 -\n",
      "127.0.0.1 - - [29/Jun/2016 16:35:06] \"GET /external/font-roboto/roboto.html HTTP/1.1\" 200 -\n",
      "127.0.0.1 - - [29/Jun/2016 16:35:06] \"GET /external/iron-selector/iron-multi-selectable.html HTTP/1.1\" 200 -\n",
      "127.0.0.1 - - [29/Jun/2016 16:35:06] \"GET /external/neon-animation/neon-animation-runner-behavior.html HTTP/1.1\" 200 -\n",
      "127.0.0.1 - - [29/Jun/2016 16:35:06] \"GET /external/iron-overlay-behavior/iron-overlay-behavior.html HTTP/1.1\" 200 -\n",
      "127.0.0.1 - - [29/Jun/2016 16:35:06] \"GET /external/iron-dropdown/iron-dropdown-scroll-manager.html HTTP/1.1\" 200 -\n",
      "127.0.0.1 - - [29/Jun/2016 16:35:06] \"GET /external/neon-animation/web-animations.html HTTP/1.1\" 200 -\n",
      "127.0.0.1 - - [29/Jun/2016 16:35:06] \"GET /external/neon-animation/neon-animation-behavior.html HTTP/1.1\" 200 -\n",
      "127.0.0.1 - - [29/Jun/2016 16:35:06] \"GET /external/neon-animation/animations/opaque-animation.html HTTP/1.1\" 200 -\n",
      "127.0.0.1 - - [29/Jun/2016 16:35:06] \"GET /external/promise-polyfill/Promise.js HTTP/1.1\" 200 -\n",
      "127.0.0.1 - - [29/Jun/2016 16:35:06] \"GET /external/neon-animation/neon-animatable-behavior.html HTTP/1.1\" 200 -\n",
      "127.0.0.1 - - [29/Jun/2016 16:35:06] \"GET /external/iron-fit-behavior/iron-fit-behavior.html HTTP/1.1\" 200 -\n",
      "127.0.0.1 - - [29/Jun/2016 16:35:06] \"GET /external/iron-overlay-behavior/iron-overlay-manager.html HTTP/1.1\" 200 -\n",
      "127.0.0.1 - - [29/Jun/2016 16:35:06] \"GET /external/iron-overlay-behavior/iron-overlay-backdrop.html HTTP/1.1\" 200 -\n",
      "127.0.0.1 - - [29/Jun/2016 16:35:06] \"GET /external/web-animations-js/web-animations-next-lite.min.js HTTP/1.1\" 200 -\n",
      "127.0.0.1 - - [29/Jun/2016 16:35:07] \"GET /data/runs HTTP/1.1\" 200 -\n",
      "127.0.0.1 - - [29/Jun/2016 16:35:07] \"GET /data/runs HTTP/1.1\" 200 -\n",
      "127.0.0.1 - - [29/Jun/2016 16:35:07] \"GET /data/graph?run=.&limit_attr_size=1024&large_attrs_key=_too_large_attrs HTTP/1.1\" 200 -\n",
      "^CTraceback (most recent call last):\n",
      "  File \"/Users/aaron/anaconda/bin/tensorboard\", line 11, in <module>\n",
      "    sys.exit(main())\n",
      "  File \"/Users/aaron/anaconda/lib/python2.7/site-packages/tensorflow/tensorboard/tensorboard.py\", line 108, in main\n",
      "    tb_server.serve_forever()\n",
      "  File \"/Users/aaron/anaconda/lib/python2.7/SocketServer.py\", line 236, in serve_forever\n",
      "    poll_interval)\n",
      "  File \"/Users/aaron/anaconda/lib/python2.7/SocketServer.py\", line 155, in _eintr_retry\n",
      "    return func(*args)\n",
      "KeyboardInterrupt\n",
      "\n"
     ]
    }
   ],
   "source": [
    "!tensorboard --logdir=log_simple_graph"
   ]
  },
  {
   "cell_type": "markdown",
   "metadata": {},
   "source": [
    "After startup, go to http://localhost:6006/#graphs to see the interface.\n",
    "\n",
    "To continue with the notebook, interrupt the kernel by using the square \"stop\" button or by typing `esc`, `i`, `i`."
   ]
  },
  {
   "cell_type": "markdown",
   "metadata": {},
   "source": [
    "### Making the neuron learn"
   ]
  },
  {
   "cell_type": "code",
   "execution_count": 32,
   "metadata": {
    "collapsed": true
   },
   "outputs": [],
   "source": [
    "y_ = tf.constant(0.0)"
   ]
  },
  {
   "cell_type": "code",
   "execution_count": 33,
   "metadata": {
    "collapsed": true
   },
   "outputs": [],
   "source": [
    "loss = (y - y_)**2"
   ]
  },
  {
   "cell_type": "code",
   "execution_count": 34,
   "metadata": {
    "collapsed": true
   },
   "outputs": [],
   "source": [
    "optim = tf.train.GradientDescentOptimizer(learning_rate=0.025)"
   ]
  },
  {
   "cell_type": "code",
   "execution_count": 35,
   "metadata": {
    "collapsed": true
   },
   "outputs": [],
   "source": [
    "grads_and_vars = optim.compute_gradients(loss)"
   ]
  },
  {
   "cell_type": "markdown",
   "metadata": {},
   "source": [
    "![plot of loss and derivative](img/plot.png)"
   ]
  },
  {
   "cell_type": "code",
   "execution_count": 36,
   "metadata": {
    "collapsed": true
   },
   "outputs": [],
   "source": [
    "sess.run(tf.initialize_all_variables())"
   ]
  },
  {
   "cell_type": "code",
   "execution_count": 37,
   "metadata": {
    "collapsed": false
   },
   "outputs": [
    {
     "data": {
      "text/plain": [
       "1.6"
      ]
     },
     "execution_count": 37,
     "metadata": {},
     "output_type": "execute_result"
    }
   ],
   "source": [
    "sess.run(grads_and_vars[0][0])"
   ]
  },
  {
   "cell_type": "markdown",
   "metadata": {},
   "source": [
    "We have `y = 0.8` and `y_ = 0`.\n",
    "\n",
    "So the loss is `(0.8 - 0)^2 = 0.64`.\n",
    "\n",
    "And the derivative of the loss is `2*(0.8 - 0)`."
   ]
  },
  {
   "cell_type": "code",
   "execution_count": 38,
   "metadata": {
    "collapsed": true
   },
   "outputs": [],
   "source": [
    "sess.run(optim.apply_gradients(grads_and_vars))"
   ]
  },
  {
   "cell_type": "markdown",
   "metadata": {},
   "source": [
    "We have now completed a forward and backward pass."
   ]
  },
  {
   "cell_type": "code",
   "execution_count": 39,
   "metadata": {
    "collapsed": false
   },
   "outputs": [
    {
     "data": {
      "text/plain": [
       "0.75999999"
      ]
     },
     "execution_count": 39,
     "metadata": {},
     "output_type": "execute_result"
    }
   ],
   "source": [
    "sess.run(w)"
   ]
  },
  {
   "cell_type": "markdown",
   "metadata": {},
   "source": [
    "This comes from subtracting the learning rate times the derivative of the loss:\n",
    "\n",
    "`0.8 - 0.025*1.6 = 0.8 - 0.04 = 0.76`"
   ]
  },
  {
   "cell_type": "code",
   "execution_count": 40,
   "metadata": {
    "collapsed": true
   },
   "outputs": [],
   "source": [
    "train_step = tf.train.GradientDescentOptimizer(0.025).minimize(loss)"
   ]
  },
  {
   "cell_type": "code",
   "execution_count": 41,
   "metadata": {
    "collapsed": true
   },
   "outputs": [],
   "source": [
    "for i in range(100):\n",
    "    sess.run(train_step)"
   ]
  },
  {
   "cell_type": "code",
   "execution_count": 42,
   "metadata": {
    "collapsed": false
   },
   "outputs": [
    {
     "data": {
      "text/plain": [
       "0.0044996012"
      ]
     },
     "execution_count": 42,
     "metadata": {},
     "output_type": "execute_result"
    }
   ],
   "source": [
    "sess.run(y)"
   ]
  },
  {
   "cell_type": "markdown",
   "metadata": {},
   "source": [
    "### Training diagnostics in TensorBoard"
   ]
  },
  {
   "cell_type": "code",
   "execution_count": 43,
   "metadata": {
    "collapsed": true
   },
   "outputs": [],
   "source": [
    "sess.run(tf.initialize_all_variables())"
   ]
  },
  {
   "cell_type": "code",
   "execution_count": 44,
   "metadata": {
    "collapsed": false,
    "scrolled": true
   },
   "outputs": [
    {
     "name": "stdout",
     "output_type": "stream",
     "text": [
      "before step 0, y is 0.800000011921\n",
      "before step 1, y is 0.759999990463\n",
      "before step 2, y is 0.722000002861\n",
      "before step 3, y is 0.685899972916\n",
      "before step 4, y is 0.651604950428\n",
      "before step 5, y is 0.619024693966\n",
      "before step 6, y is 0.588073432446\n",
      "before step 7, y is 0.558669745922\n",
      "before step 8, y is 0.530736267567\n",
      "before step 9, y is 0.504199445248\n",
      "before step 10, y is 0.478989481926\n",
      "before step 11, y is 0.45504000783\n",
      "before step 12, y is 0.432288020849\n",
      "before step 13, y is 0.410673618317\n",
      "before step 14, y is 0.390139937401\n",
      "before step 15, y is 0.370632946491\n",
      "before step 16, y is 0.352101296186\n",
      "before step 17, y is 0.334496229887\n",
      "before step 18, y is 0.317771404982\n",
      "before step 19, y is 0.301882833242\n",
      "before step 20, y is 0.286788702011\n",
      "before step 21, y is 0.27244925499\n",
      "before step 22, y is 0.25882679224\n",
      "before step 23, y is 0.245885446668\n",
      "before step 24, y is 0.233591169119\n",
      "before step 25, y is 0.221911609173\n",
      "before step 26, y is 0.210816025734\n",
      "before step 27, y is 0.200275227427\n",
      "before step 28, y is 0.190261468291\n",
      "before step 29, y is 0.180748388171\n",
      "before step 30, y is 0.171710968018\n",
      "before step 31, y is 0.163125425577\n",
      "before step 32, y is 0.154969155788\n",
      "before step 33, y is 0.147220700979\n",
      "before step 34, y is 0.13985966146\n",
      "before step 35, y is 0.132866680622\n",
      "before step 36, y is 0.126223340631\n",
      "before step 37, y is 0.119912177324\n",
      "before step 38, y is 0.113916568458\n",
      "before step 39, y is 0.108220741153\n",
      "before step 40, y is 0.10280970484\n",
      "before step 41, y is 0.0976692214608\n",
      "before step 42, y is 0.0927857607603\n",
      "before step 43, y is 0.0881464704871\n",
      "before step 44, y is 0.0837391465902\n",
      "before step 45, y is 0.0795521885157\n",
      "before step 46, y is 0.0755745768547\n",
      "before step 47, y is 0.0717958509922\n",
      "before step 48, y is 0.0682060569525\n",
      "before step 49, y is 0.0647957548499\n",
      "before step 50, y is 0.0615559667349\n",
      "before step 51, y is 0.0584781691432\n",
      "before step 52, y is 0.0555542595685\n",
      "before step 53, y is 0.0527765452862\n",
      "before step 54, y is 0.0501377172768\n",
      "before step 55, y is 0.0476308315992\n",
      "before step 56, y is 0.0452492907643\n",
      "before step 57, y is 0.0429868251085\n",
      "before step 58, y is 0.0408374853432\n",
      "before step 59, y is 0.0387956127524\n",
      "before step 60, y is 0.0368558317423\n",
      "before step 61, y is 0.0350130386651\n",
      "before step 62, y is 0.0332623869181\n",
      "before step 63, y is 0.0315992683172\n",
      "before step 64, y is 0.0300193056464\n",
      "before step 65, y is 0.028518339619\n",
      "before step 66, y is 0.02709242329\n",
      "before step 67, y is 0.0257378015667\n",
      "before step 68, y is 0.024450911209\n",
      "before step 69, y is 0.0232283659279\n",
      "before step 70, y is 0.0220669470727\n",
      "before step 71, y is 0.0209635999054\n",
      "before step 72, y is 0.019915420562\n",
      "before step 73, y is 0.0189196504653\n",
      "before step 74, y is 0.0179736688733\n",
      "before step 75, y is 0.0170749854296\n",
      "before step 76, y is 0.0162212364376\n",
      "before step 77, y is 0.0154101746157\n",
      "before step 78, y is 0.014639666304\n",
      "before step 79, y is 0.0139076830819\n",
      "before step 80, y is 0.0132122989744\n",
      "before step 81, y is 0.0125516839325\n",
      "before step 82, y is 0.0119241001084\n",
      "before step 83, y is 0.0113278953359\n",
      "before step 84, y is 0.0107615003362\n",
      "before step 85, y is 0.0102234249935\n",
      "before step 86, y is 0.00971225369722\n",
      "before step 87, y is 0.00922664068639\n",
      "before step 88, y is 0.00876530818641\n",
      "before step 89, y is 0.00832704268396\n",
      "before step 90, y is 0.00791069027036\n",
      "before step 91, y is 0.00751515571028\n",
      "before step 92, y is 0.00713939778507\n",
      "before step 93, y is 0.00678242789581\n",
      "before step 94, y is 0.00644330633804\n",
      "before step 95, y is 0.00612114090472\n",
      "before step 96, y is 0.00581508409232\n",
      "before step 97, y is 0.00552432984114\n",
      "before step 98, y is 0.00524811353534\n",
      "before step 99, y is 0.00498570781201\n"
     ]
    }
   ],
   "source": [
    "for i in range(100):\n",
    "    print('before step {}, y is {}'.format(i, sess.run(y)))\n",
    "    sess.run(train_step)"
   ]
  },
  {
   "cell_type": "code",
   "execution_count": 45,
   "metadata": {
    "collapsed": true
   },
   "outputs": [],
   "source": [
    "summary_y = tf.scalar_summary('output', y)"
   ]
  },
  {
   "cell_type": "code",
   "execution_count": 46,
   "metadata": {
    "collapsed": true
   },
   "outputs": [],
   "source": [
    "summary_writer = tf.train.SummaryWriter('log_simple_stat')"
   ]
  },
  {
   "cell_type": "code",
   "execution_count": 47,
   "metadata": {
    "collapsed": true
   },
   "outputs": [],
   "source": [
    "sess.run(tf.initialize_all_variables())\n",
    "for i in range(100):\n",
    "    summary_str = sess.run(summary_y)\n",
    "    summary_writer.add_summary(summary_str, i)\n",
    "    sess.run(train_step)"
   ]
  },
  {
   "cell_type": "code",
   "execution_count": 48,
   "metadata": {
    "collapsed": false,
    "scrolled": true
   },
   "outputs": [
    {
     "name": "stdout",
     "output_type": "stream",
     "text": [
      "Starting TensorBoard 16 on port 6006\n",
      "(You can navigate to http://0.0.0.0:6006)\n",
      "127.0.0.1 - - [29/Jun/2016 16:36:08] \"GET / HTTP/1.1\" 200 -\n",
      "127.0.0.1 - - [29/Jun/2016 16:36:08] \"GET /external/lodash/lodash.min.js HTTP/1.1\" 200 -\n",
      "127.0.0.1 - - [29/Jun/2016 16:36:08] \"GET /lib/css/global.css HTTP/1.1\" 200 -\n",
      "127.0.0.1 - - [29/Jun/2016 16:36:08] \"GET /external/d3/d3.min.js HTTP/1.1\" 200 -\n",
      "127.0.0.1 - - [29/Jun/2016 16:36:08] \"GET /external/plottable/plottable.css HTTP/1.1\" 200 -\n",
      "127.0.0.1 - - [29/Jun/2016 16:36:08] \"GET /external/plottable/plottable.min.js HTTP/1.1\" 200 -\n",
      "127.0.0.1 - - [29/Jun/2016 16:36:08] \"GET /external/graphlib/dist/graphlib.core.min.js HTTP/1.1\" 200 -\n",
      "127.0.0.1 - - [29/Jun/2016 16:36:08] \"GET /external/dagre/dist/dagre.core.min.js HTTP/1.1\" 200 -\n",
      "127.0.0.1 - - [29/Jun/2016 16:36:08] \"GET /external/webcomponentsjs/webcomponents-lite.min.js HTTP/1.1\" 200 -\n",
      "127.0.0.1 - - [29/Jun/2016 16:36:08] \"GET /external/polymer/polymer.html HTTP/1.1\" 200 -\n",
      "127.0.0.1 - - [29/Jun/2016 16:36:08] \"GET /external/iron-ajax/iron-ajax.html HTTP/1.1\" 200 -\n",
      "127.0.0.1 - - [29/Jun/2016 16:36:08] \"GET /external/iron-collapse/iron-collapse.html HTTP/1.1\" 200 -\n",
      "127.0.0.1 - - [29/Jun/2016 16:36:08] \"GET /external/iron-list/iron-list.html HTTP/1.1\" 200 -\n",
      "127.0.0.1 - - [29/Jun/2016 16:36:09] \"GET /external/paper-button/paper-button.html HTTP/1.1\" 200 -\n",
      "127.0.0.1 - - [29/Jun/2016 16:36:09] \"GET /external/paper-checkbox/paper-checkbox.html HTTP/1.1\" 200 -\n",
      "127.0.0.1 - - [29/Jun/2016 16:36:09] \"GET /external/paper-dropdown-menu/paper-dropdown-menu.html HTTP/1.1\" 200 -\n",
      "127.0.0.1 - - [29/Jun/2016 16:36:09] \"GET /external/paper-header-panel/paper-header-panel.html HTTP/1.1\" 200 -\n",
      "127.0.0.1 - - [29/Jun/2016 16:36:09] \"GET /external/paper-icon-button/paper-icon-button.html HTTP/1.1\" 200 -\n",
      "127.0.0.1 - - [29/Jun/2016 16:36:09] \"GET /external/paper-input/paper-input.html HTTP/1.1\" 200 -\n",
      "127.0.0.1 - - [29/Jun/2016 16:36:09] \"GET /external/paper-item/paper-item.html HTTP/1.1\" 200 -\n",
      "127.0.0.1 - - [29/Jun/2016 16:36:09] \"GET /external/paper-menu/paper-menu.html HTTP/1.1\" 200 -\n",
      "127.0.0.1 - - [29/Jun/2016 16:36:09] \"GET /external/paper-progress/paper-progress.html HTTP/1.1\" 200 -\n",
      "127.0.0.1 - - [29/Jun/2016 16:36:09] \"GET /external/paper-radio-button/paper-radio-button.html HTTP/1.1\" 200 -\n",
      "127.0.0.1 - - [29/Jun/2016 16:36:09] \"GET /external/paper-radio-group/paper-radio-group.html HTTP/1.1\" 200 -\n",
      "127.0.0.1 - - [29/Jun/2016 16:36:09] \"GET /external/paper-slider/paper-slider.html HTTP/1.1\" 200 -\n",
      "127.0.0.1 - - [29/Jun/2016 16:36:09] \"GET /external/paper-styles/paper-styles.html HTTP/1.1\" 200 -\n",
      "127.0.0.1 - - [29/Jun/2016 16:36:09] \"GET /external/paper-toggle-button/paper-toggle-button.html HTTP/1.1\" 200 -\n",
      "127.0.0.1 - - [29/Jun/2016 16:36:09] \"GET /external/paper-toolbar/paper-toolbar.html HTTP/1.1\" 200 -\n",
      "127.0.0.1 - - [29/Jun/2016 16:36:09] \"GET /external/paper-tabs/paper-tabs.html HTTP/1.1\" 200 -\n",
      "127.0.0.1 - - [29/Jun/2016 16:36:09] \"GET /dist/tf-tensorboard.html HTTP/1.1\" 200 -\n",
      "127.0.0.1 - - [29/Jun/2016 16:36:09] \"GET /external/polymer/polymer-mini.html HTTP/1.1\" 200 -\n",
      "127.0.0.1 - - [29/Jun/2016 16:36:09] \"GET /external/polymer/polymer-micro.html HTTP/1.1\" 200 -\n",
      "127.0.0.1 - - [29/Jun/2016 16:36:09] \"GET /external/iron-input/iron-input.html HTTP/1.1\" 200 -\n",
      "127.0.0.1 - - [29/Jun/2016 16:36:09] \"GET /external/iron-form-element-behavior/iron-form-element-behavior.html HTTP/1.1\" 200 -\n",
      "127.0.0.1 - - [29/Jun/2016 16:36:09] \"GET /external/paper-input/paper-input-char-counter.html HTTP/1.1\" 200 -\n",
      "127.0.0.1 - - [29/Jun/2016 16:36:09] \"GET /external/paper-input/paper-input-behavior.html HTTP/1.1\" 200 -\n",
      "127.0.0.1 - - [29/Jun/2016 16:36:09] \"GET /external/paper-input/paper-input-container.html HTTP/1.1\" 200 -\n",
      "127.0.0.1 - - [29/Jun/2016 16:36:09] \"GET /external/paper-input/paper-input-error.html HTTP/1.1\" 200 -\n",
      "127.0.0.1 - - [29/Jun/2016 16:36:09] \"GET /external/paper-styles/color.html HTTP/1.1\" 200 -\n",
      "127.0.0.1 - - [29/Jun/2016 16:36:09] \"GET /external/paper-styles/default-theme.html HTTP/1.1\" 200 -\n",
      "127.0.0.1 - - [29/Jun/2016 16:36:09] \"GET /external/paper-ripple/paper-ripple.html HTTP/1.1\" 200 -\n",
      "127.0.0.1 - - [29/Jun/2016 16:36:09] \"GET /external/paper-behaviors/paper-checked-element-behavior.html HTTP/1.1\" 200 -\n",
      "127.0.0.1 - - [29/Jun/2016 16:36:09] \"GET /external/iron-flex-layout/iron-flex-layout.html HTTP/1.1\" 200 -\n",
      "127.0.0.1 - - [29/Jun/2016 16:36:09] \"GET /external/paper-item/paper-item-behavior.html HTTP/1.1\" 200 -\n",
      "127.0.0.1 - - [29/Jun/2016 16:36:09] \"GET /external/paper-item/paper-item-shared-styles.html HTTP/1.1\" 200 -\n",
      "127.0.0.1 - - [29/Jun/2016 16:36:09] \"GET /external/iron-resizable-behavior/iron-resizable-behavior.html HTTP/1.1\" 200 -\n",
      "127.0.0.1 - - [29/Jun/2016 16:36:09] \"GET /external/iron-icon/iron-icon.html HTTP/1.1\" 200 -\n",
      "127.0.0.1 - - [29/Jun/2016 16:36:09] \"GET /external/paper-behaviors/paper-button-behavior.html HTTP/1.1\" 200 -\n",
      "127.0.0.1 - - [29/Jun/2016 16:36:09] \"GET /external/paper-behaviors/paper-inky-focus-behavior.html HTTP/1.1\" 200 -\n",
      "127.0.0.1 - - [29/Jun/2016 16:36:09] \"GET /external/iron-range-behavior/iron-range-behavior.html HTTP/1.1\" 200 -\n",
      "127.0.0.1 - - [29/Jun/2016 16:36:09] \"GET /external/iron-menu-behavior/iron-menubar-behavior.html HTTP/1.1\" 200 -\n",
      "127.0.0.1 - - [29/Jun/2016 16:36:09] \"GET /external/paper-tabs/paper-tabs-icons.html HTTP/1.1\" 200 -\n",
      "127.0.0.1 - - [29/Jun/2016 16:36:09] \"GET /external/paper-tabs/paper-tab.html HTTP/1.1\" 200 -\n",
      "127.0.0.1 - - [29/Jun/2016 16:36:09] \"GET /external/iron-ajax/iron-request.html HTTP/1.1\" 200 -\n",
      "127.0.0.1 - - [29/Jun/2016 16:36:09] \"GET /external/paper-styles/typography.html HTTP/1.1\" 200 -\n",
      "127.0.0.1 - - [29/Jun/2016 16:36:09] \"GET /external/iron-a11y-keys-behavior/iron-a11y-keys-behavior.html HTTP/1.1\" 200 -\n",
      "127.0.0.1 - - [29/Jun/2016 16:36:09] \"GET /external/iron-menu-behavior/iron-menu-behavior.html HTTP/1.1\" 200 -\n",
      "127.0.0.1 - - [29/Jun/2016 16:36:09] \"GET /external/paper-menu/paper-menu-shared-styles.html HTTP/1.1\" 200 -\n",
      "127.0.0.1 - - [29/Jun/2016 16:36:09] \"GET /external/iron-selector/iron-selectable.html HTTP/1.1\" 200 -\n",
      "127.0.0.1 - - [29/Jun/2016 16:36:09] \"GET /external/iron-flex-layout/classes/iron-flex-layout.html HTTP/1.1\" 200 -\n",
      "127.0.0.1 - - [29/Jun/2016 16:36:09] \"GET /external/paper-styles/shadow.html HTTP/1.1\" 200 -\n",
      "127.0.0.1 - - [29/Jun/2016 16:36:09] \"GET /external/paper-menu-button/paper-menu-button.html HTTP/1.1\" 200 -\n",
      "127.0.0.1 - - [29/Jun/2016 16:36:09] \"GET /external/iron-behaviors/iron-control-state.html HTTP/1.1\" 200 -\n",
      "127.0.0.1 - - [29/Jun/2016 16:36:09] \"GET /external/iron-behaviors/iron-button-state.html HTTP/1.1\" 200 -\n",
      "127.0.0.1 - - [29/Jun/2016 16:36:09] \"GET /external/iron-icons/iron-icons.html HTTP/1.1\" 200 -\n",
      "127.0.0.1 - - [29/Jun/2016 16:36:09] \"GET /external/iron-validatable-behavior/iron-validatable-behavior.html HTTP/1.1\" 200 -\n",
      "127.0.0.1 - - [29/Jun/2016 16:36:09] \"GET /external/paper-material/paper-material.html HTTP/1.1\" 200 -\n",
      "127.0.0.1 - - [29/Jun/2016 16:36:09] \"GET /external/iron-a11y-announcer/iron-a11y-announcer.html HTTP/1.1\" 200 -\n",
      "127.0.0.1 - - [29/Jun/2016 16:36:09] \"GET /external/paper-input/paper-input-addon-behavior.html HTTP/1.1\" 200 -\n",
      "127.0.0.1 - - [29/Jun/2016 16:36:09] \"GET /external/iron-checked-element-behavior/iron-checked-element-behavior.html HTTP/1.1\" 200 -\n",
      "127.0.0.1 - - [29/Jun/2016 16:36:09] \"GET /external/iron-meta/iron-meta.html HTTP/1.1\" 200 -\n",
      "127.0.0.1 - - [29/Jun/2016 16:36:09] \"GET /external/paper-behaviors/paper-ripple-behavior.html HTTP/1.1\" 200 -\n",
      "127.0.0.1 - - [29/Jun/2016 16:36:09] \"GET /external/iron-iconset-svg/iron-iconset-svg.html HTTP/1.1\" 200 -\n",
      "127.0.0.1 - - [29/Jun/2016 16:36:09] \"GET /external/promise-polyfill/promise-polyfill-lite.html HTTP/1.1\" 200 -\n",
      "127.0.0.1 - - [29/Jun/2016 16:36:09] \"GET /external/iron-selector/iron-selection.html HTTP/1.1\" 200 -\n",
      "127.0.0.1 - - [29/Jun/2016 16:36:09] \"GET /external/iron-selector/iron-multi-selectable.html HTTP/1.1\" 200 -\n",
      "127.0.0.1 - - [29/Jun/2016 16:36:09] \"GET /external/font-roboto/roboto.html HTTP/1.1\" 200 -\n",
      "127.0.0.1 - - [29/Jun/2016 16:36:09] \"GET /external/iron-flex-layout/classes/iron-shadow-flex-layout.html HTTP/1.1\" 200 -\n",
      "127.0.0.1 - - [29/Jun/2016 16:36:09] \"GET /external/neon-animation/animations/fade-out-animation.html HTTP/1.1\" 200 -\n",
      "127.0.0.1 - - [29/Jun/2016 16:36:09] \"GET /external/neon-animation/animations/fade-in-animation.html HTTP/1.1\" 200 -\n",
      "127.0.0.1 - - [29/Jun/2016 16:36:09] \"GET /external/iron-dropdown/iron-dropdown.html HTTP/1.1\" 200 -\n",
      "127.0.0.1 - - [29/Jun/2016 16:36:09] \"GET /external/paper-menu-button/paper-menu-button-animations.html HTTP/1.1\" 200 -\n",
      "127.0.0.1 - - [29/Jun/2016 16:36:09] \"GET /external/paper-material/paper-material-shared-styles.html HTTP/1.1\" 200 -\n",
      "127.0.0.1 - - [29/Jun/2016 16:36:09] \"GET /external/neon-animation/neon-animation-runner-behavior.html HTTP/1.1\" 200 -\n",
      "127.0.0.1 - - [29/Jun/2016 16:36:09] \"GET /external/iron-overlay-behavior/iron-overlay-behavior.html HTTP/1.1\" 200 -\n",
      "127.0.0.1 - - [29/Jun/2016 16:36:09] \"GET /external/neon-animation/web-animations.html HTTP/1.1\" 200 -\n",
      "127.0.0.1 - - [29/Jun/2016 16:36:09] \"GET /external/promise-polyfill/Promise.js HTTP/1.1\" 200 -\n",
      "127.0.0.1 - - [29/Jun/2016 16:36:09] \"GET /external/neon-animation/neon-animation-behavior.html HTTP/1.1\" 200 -\n",
      "127.0.0.1 - - [29/Jun/2016 16:36:09] \"GET /external/neon-animation/animations/opaque-animation.html HTTP/1.1\" 200 -\n",
      "127.0.0.1 - - [29/Jun/2016 16:36:09] \"GET /external/iron-dropdown/iron-dropdown-scroll-manager.html HTTP/1.1\" 200 -\n",
      "127.0.0.1 - - [29/Jun/2016 16:36:09] \"GET /external/neon-animation/neon-animatable-behavior.html HTTP/1.1\" 200 -\n",
      "127.0.0.1 - - [29/Jun/2016 16:36:09] \"GET /external/web-animations-js/web-animations-next-lite.min.js HTTP/1.1\" 200 -\n",
      "127.0.0.1 - - [29/Jun/2016 16:36:09] \"GET /external/iron-fit-behavior/iron-fit-behavior.html HTTP/1.1\" 200 -\n",
      "127.0.0.1 - - [29/Jun/2016 16:36:09] \"GET /external/iron-overlay-behavior/iron-overlay-backdrop.html HTTP/1.1\" 200 -\n",
      "127.0.0.1 - - [29/Jun/2016 16:36:09] \"GET /external/iron-overlay-behavior/iron-overlay-manager.html HTTP/1.1\" 200 -\n",
      "127.0.0.1 - - [29/Jun/2016 16:36:10] \"GET /data/runs HTTP/1.1\" 200 -\n",
      "^CTraceback (most recent call last):\n",
      "  File \"/Users/aaron/anaconda/bin/tensorboard\", line 11, in <module>\n",
      "    sys.exit(main())\n",
      "  File \"/Users/aaron/anaconda/lib/python2.7/site-packages/tensorflow/tensorboard/tensorboard.py\", line 108, in main\n",
      "    tb_server.serve_forever()\n",
      "  File \"/Users/aaron/anaconda/lib/python2.7/SocketServer.py\", line 236, in serve_forever\n",
      "    poll_interval)\n",
      "  File \"/Users/aaron/anaconda/lib/python2.7/SocketServer.py\", line 155, in _eintr_retry\n",
      "    return func(*args)\n",
      "KeyboardInterrupt\n",
      "\n"
     ]
    }
   ],
   "source": [
    "!tensorboard --logdir=log_simple_stat"
   ]
  },
  {
   "cell_type": "markdown",
   "metadata": {},
   "source": [
    "After startup, go to http://localhost:6006/#events to see the interface.\n",
    "\n",
    "To continue with the notebook, interrupt the kernel by using the square \"stop\" button or by typing `esc`, `i`, `i`."
   ]
  },
  {
   "cell_type": "markdown",
   "metadata": {},
   "source": [
    "---"
   ]
  },
  {
   "cell_type": "markdown",
   "metadata": {},
   "source": [
    "### Flowing onward"
   ]
  },
  {
   "cell_type": "code",
   "execution_count": 49,
   "metadata": {
    "collapsed": true
   },
   "outputs": [],
   "source": [
    "tf.reset_default_graph()\n",
    "!rm -rf log_simple_stats"
   ]
  },
  {
   "cell_type": "markdown",
   "metadata": {},
   "source": [
    "The script below is designed to stand alone, and will also work here with the default graph reset."
   ]
  },
  {
   "cell_type": "code",
   "execution_count": 50,
   "metadata": {
    "collapsed": true
   },
   "outputs": [],
   "source": [
    "import tensorflow as tf\n",
    "\n",
    "x = tf.constant(1.0, name='input')\n",
    "w = tf.Variable(0.8, name='weight')\n",
    "y = tf.mul(w, x, name='output')\n",
    "y_ = tf.constant(0.0, name='correct_value')\n",
    "loss = tf.pow(y - y_, 2, name='loss')\n",
    "train_step = tf.train.GradientDescentOptimizer(0.025).minimize(loss)\n",
    "\n",
    "for value in [x, w, y, y_, loss]:\n",
    "    tf.scalar_summary(value.op.name, value)\n",
    "\n",
    "summaries = tf.merge_all_summaries()\n",
    "\n",
    "sess = tf.Session()\n",
    "summary_writer = tf.train.SummaryWriter('log_simple_stats', sess.graph)\n",
    "\n",
    "sess.run(tf.initialize_all_variables())\n",
    "for i in range(100):\n",
    "    summary_writer.add_summary(sess.run(summaries), i)\n",
    "    sess.run(train_step)"
   ]
  },
  {
   "cell_type": "code",
   "execution_count": 51,
   "metadata": {
    "collapsed": false,
    "scrolled": true
   },
   "outputs": [
    {
     "name": "stdout",
     "output_type": "stream",
     "text": [
      "Starting TensorBoard 16 on port 6006\n",
      "(You can navigate to http://0.0.0.0:6006)\n",
      "127.0.0.1 - - [29/Jun/2016 16:36:31] \"GET / HTTP/1.1\" 200 -\n",
      "127.0.0.1 - - [29/Jun/2016 16:36:31] \"GET /lib/css/global.css HTTP/1.1\" 200 -\n",
      "127.0.0.1 - - [29/Jun/2016 16:36:31] \"GET /external/lodash/lodash.min.js HTTP/1.1\" 200 -\n",
      "127.0.0.1 - - [29/Jun/2016 16:36:31] \"GET /external/d3/d3.min.js HTTP/1.1\" 200 -\n",
      "127.0.0.1 - - [29/Jun/2016 16:36:31] \"GET /external/plottable/plottable.css HTTP/1.1\" 200 -\n",
      "127.0.0.1 - - [29/Jun/2016 16:36:31] \"GET /external/plottable/plottable.min.js HTTP/1.1\" 200 -\n",
      "127.0.0.1 - - [29/Jun/2016 16:36:31] \"GET /external/graphlib/dist/graphlib.core.min.js HTTP/1.1\" 200 -\n",
      "127.0.0.1 - - [29/Jun/2016 16:36:31] \"GET /external/dagre/dist/dagre.core.min.js HTTP/1.1\" 200 -\n",
      "127.0.0.1 - - [29/Jun/2016 16:36:31] \"GET /external/webcomponentsjs/webcomponents-lite.min.js HTTP/1.1\" 200 -\n",
      "127.0.0.1 - - [29/Jun/2016 16:36:31] \"GET /external/polymer/polymer.html HTTP/1.1\" 200 -\n",
      "127.0.0.1 - - [29/Jun/2016 16:36:31] \"GET /external/iron-ajax/iron-ajax.html HTTP/1.1\" 200 -\n",
      "127.0.0.1 - - [29/Jun/2016 16:36:31] \"GET /external/iron-collapse/iron-collapse.html HTTP/1.1\" 200 -\n",
      "127.0.0.1 - - [29/Jun/2016 16:36:31] \"GET /external/iron-list/iron-list.html HTTP/1.1\" 200 -\n",
      "127.0.0.1 - - [29/Jun/2016 16:36:31] \"GET /external/paper-button/paper-button.html HTTP/1.1\" 200 -\n",
      "127.0.0.1 - - [29/Jun/2016 16:36:31] \"GET /external/paper-checkbox/paper-checkbox.html HTTP/1.1\" 200 -\n",
      "127.0.0.1 - - [29/Jun/2016 16:36:31] \"GET /external/paper-dropdown-menu/paper-dropdown-menu.html HTTP/1.1\" 200 -\n",
      "127.0.0.1 - - [29/Jun/2016 16:36:31] \"GET /external/paper-header-panel/paper-header-panel.html HTTP/1.1\" 200 -\n",
      "127.0.0.1 - - [29/Jun/2016 16:36:31] \"GET /external/paper-icon-button/paper-icon-button.html HTTP/1.1\" 200 -\n",
      "127.0.0.1 - - [29/Jun/2016 16:36:31] \"GET /external/paper-input/paper-input.html HTTP/1.1\" 200 -\n",
      "127.0.0.1 - - [29/Jun/2016 16:36:31] \"GET /external/paper-item/paper-item.html HTTP/1.1\" 200 -\n",
      "127.0.0.1 - - [29/Jun/2016 16:36:31] \"GET /external/paper-menu/paper-menu.html HTTP/1.1\" 200 -\n",
      "127.0.0.1 - - [29/Jun/2016 16:36:31] \"GET /external/paper-progress/paper-progress.html HTTP/1.1\" 200 -\n",
      "127.0.0.1 - - [29/Jun/2016 16:36:31] \"GET /external/paper-radio-button/paper-radio-button.html HTTP/1.1\" 200 -\n",
      "127.0.0.1 - - [29/Jun/2016 16:36:31] \"GET /external/paper-radio-group/paper-radio-group.html HTTP/1.1\" 200 -\n",
      "127.0.0.1 - - [29/Jun/2016 16:36:31] \"GET /external/paper-slider/paper-slider.html HTTP/1.1\" 200 -\n",
      "127.0.0.1 - - [29/Jun/2016 16:36:31] \"GET /external/paper-styles/paper-styles.html HTTP/1.1\" 200 -\n",
      "127.0.0.1 - - [29/Jun/2016 16:36:31] \"GET /external/paper-toggle-button/paper-toggle-button.html HTTP/1.1\" 200 -\n",
      "127.0.0.1 - - [29/Jun/2016 16:36:31] \"GET /external/paper-toolbar/paper-toolbar.html HTTP/1.1\" 200 -\n",
      "127.0.0.1 - - [29/Jun/2016 16:36:31] \"GET /external/paper-tabs/paper-tabs.html HTTP/1.1\" 200 -\n",
      "127.0.0.1 - - [29/Jun/2016 16:36:31] \"GET /dist/tf-tensorboard.html HTTP/1.1\" 200 -\n",
      "127.0.0.1 - - [29/Jun/2016 16:36:31] \"GET /external/polymer/polymer-mini.html HTTP/1.1\" 200 -\n",
      "127.0.0.1 - - [29/Jun/2016 16:36:31] \"GET /external/polymer/polymer-micro.html HTTP/1.1\" 200 -\n",
      "127.0.0.1 - - [29/Jun/2016 16:36:32] \"GET /external/iron-flex-layout/classes/iron-flex-layout.html HTTP/1.1\" 200 -\n",
      "127.0.0.1 - - [29/Jun/2016 16:36:32] \"GET /external/paper-behaviors/paper-checked-element-behavior.html HTTP/1.1\" 200 -\n",
      "127.0.0.1 - - [29/Jun/2016 16:36:32] \"GET /external/iron-flex-layout/iron-flex-layout.html HTTP/1.1\" 200 -\n",
      "127.0.0.1 - - [29/Jun/2016 16:36:32] \"GET /external/paper-styles/default-theme.html HTTP/1.1\" 200 -\n",
      "127.0.0.1 - - [29/Jun/2016 16:36:32] \"GET /external/paper-styles/color.html HTTP/1.1\" 200 -\n",
      "127.0.0.1 - - [29/Jun/2016 16:36:32] \"GET /external/paper-styles/typography.html HTTP/1.1\" 200 -\n",
      "127.0.0.1 - - [29/Jun/2016 16:36:32] \"GET /external/paper-ripple/paper-ripple.html HTTP/1.1\" 200 -\n",
      "127.0.0.1 - - [29/Jun/2016 16:36:32] \"GET /external/iron-resizable-behavior/iron-resizable-behavior.html HTTP/1.1\" 200 -\n",
      "127.0.0.1 - - [29/Jun/2016 16:36:32] \"GET /external/iron-input/iron-input.html HTTP/1.1\" 200 -\n",
      "127.0.0.1 - - [29/Jun/2016 16:36:32] \"GET /external/iron-form-element-behavior/iron-form-element-behavior.html HTTP/1.1\" 200 -\n",
      "127.0.0.1 - - [29/Jun/2016 16:36:32] \"GET /external/paper-styles/shadow.html HTTP/1.1\" 200 -\n",
      "127.0.0.1 - - [29/Jun/2016 16:36:32] \"GET /external/paper-input/paper-input-behavior.html HTTP/1.1\" 200 -\n",
      "127.0.0.1 - - [29/Jun/2016 16:36:32] \"GET /external/paper-input/paper-input-char-counter.html HTTP/1.1\" 200 -\n",
      "127.0.0.1 - - [29/Jun/2016 16:36:32] \"GET /external/paper-input/paper-input-container.html HTTP/1.1\" 200 -\n",
      "127.0.0.1 - - [29/Jun/2016 16:36:32] \"GET /external/paper-input/paper-input-error.html HTTP/1.1\" 200 -\n",
      "127.0.0.1 - - [29/Jun/2016 16:36:32] \"GET /external/paper-behaviors/paper-inky-focus-behavior.html HTTP/1.1\" 200 -\n",
      "127.0.0.1 - - [29/Jun/2016 16:36:32] \"GET /external/iron-range-behavior/iron-range-behavior.html HTTP/1.1\" 200 -\n",
      "127.0.0.1 - - [29/Jun/2016 16:36:32] \"GET /external/iron-a11y-keys-behavior/iron-a11y-keys-behavior.html HTTP/1.1\" 200 -\n",
      "127.0.0.1 - - [29/Jun/2016 16:36:32] \"GET /external/iron-menu-behavior/iron-menu-behavior.html HTTP/1.1\" 200 -\n",
      "127.0.0.1 - - [29/Jun/2016 16:36:32] \"GET /external/paper-menu/paper-menu-shared-styles.html HTTP/1.1\" 200 -\n",
      "127.0.0.1 - - [29/Jun/2016 16:36:32] \"GET /external/iron-icon/iron-icon.html HTTP/1.1\" 200 -\n",
      "127.0.0.1 - - [29/Jun/2016 16:36:32] \"GET /external/iron-menu-behavior/iron-menubar-behavior.html HTTP/1.1\" 200 -\n",
      "127.0.0.1 - - [29/Jun/2016 16:36:32] \"GET /external/paper-tabs/paper-tabs-icons.html HTTP/1.1\" 200 -\n",
      "127.0.0.1 - - [29/Jun/2016 16:36:32] \"GET /external/paper-tabs/paper-tab.html HTTP/1.1\" 200 -\n",
      "127.0.0.1 - - [29/Jun/2016 16:36:32] \"GET /external/iron-selector/iron-selectable.html HTTP/1.1\" 200 -\n",
      "127.0.0.1 - - [29/Jun/2016 16:36:32] \"GET /external/iron-ajax/iron-request.html HTTP/1.1\" 200 -\n",
      "127.0.0.1 - - [29/Jun/2016 16:36:32] \"GET /external/paper-behaviors/paper-button-behavior.html HTTP/1.1\" 200 -\n",
      "127.0.0.1 - - [29/Jun/2016 16:36:32] \"GET /external/paper-material/paper-material.html HTTP/1.1\" 200 -\n",
      "127.0.0.1 - - [29/Jun/2016 16:36:32] \"GET /external/paper-item/paper-item-behavior.html HTTP/1.1\" 200 -\n",
      "127.0.0.1 - - [29/Jun/2016 16:36:32] \"GET /external/paper-item/paper-item-shared-styles.html HTTP/1.1\" 200 -\n",
      "127.0.0.1 - - [29/Jun/2016 16:36:32] \"GET /external/paper-menu-button/paper-menu-button.html HTTP/1.1\" 200 -\n",
      "127.0.0.1 - - [29/Jun/2016 16:36:32] \"GET /external/iron-behaviors/iron-control-state.html HTTP/1.1\" 200 -\n",
      "127.0.0.1 - - [29/Jun/2016 16:36:32] \"GET /external/iron-behaviors/iron-button-state.html HTTP/1.1\" 200 -\n",
      "127.0.0.1 - - [29/Jun/2016 16:36:32] \"GET /external/iron-icons/iron-icons.html HTTP/1.1\" 200 -\n",
      "127.0.0.1 - - [29/Jun/2016 16:36:32] \"GET /external/iron-validatable-behavior/iron-validatable-behavior.html HTTP/1.1\" 200 -\n",
      "127.0.0.1 - - [29/Jun/2016 16:36:32] \"GET /external/iron-flex-layout/classes/iron-shadow-flex-layout.html HTTP/1.1\" 200 -\n",
      "127.0.0.1 - - [29/Jun/2016 16:36:32] \"GET /external/iron-checked-element-behavior/iron-checked-element-behavior.html HTTP/1.1\" 200 -\n",
      "127.0.0.1 - - [29/Jun/2016 16:36:32] \"GET /external/font-roboto/roboto.html HTTP/1.1\" 200 -\n",
      "127.0.0.1 - - [29/Jun/2016 16:36:32] \"GET /external/iron-a11y-announcer/iron-a11y-announcer.html HTTP/1.1\" 200 -\n",
      "127.0.0.1 - - [29/Jun/2016 16:36:32] \"GET /external/paper-input/paper-input-addon-behavior.html HTTP/1.1\" 200 -\n",
      "127.0.0.1 - - [29/Jun/2016 16:36:32] \"GET /external/paper-behaviors/paper-ripple-behavior.html HTTP/1.1\" 200 -\n",
      "127.0.0.1 - - [29/Jun/2016 16:36:32] \"GET /external/iron-selector/iron-multi-selectable.html HTTP/1.1\" 200 -\n",
      "127.0.0.1 - - [29/Jun/2016 16:36:32] \"GET /external/iron-iconset-svg/iron-iconset-svg.html HTTP/1.1\" 200 -\n",
      "127.0.0.1 - - [29/Jun/2016 16:36:32] \"GET /external/iron-meta/iron-meta.html HTTP/1.1\" 200 -\n",
      "127.0.0.1 - - [29/Jun/2016 16:36:32] \"GET /external/iron-selector/iron-selection.html HTTP/1.1\" 200 -\n",
      "127.0.0.1 - - [29/Jun/2016 16:36:32] \"GET /external/iron-dropdown/iron-dropdown.html HTTP/1.1\" 200 -\n",
      "127.0.0.1 - - [29/Jun/2016 16:36:32] \"GET /external/paper-material/paper-material-shared-styles.html HTTP/1.1\" 200 -\n",
      "127.0.0.1 - - [29/Jun/2016 16:36:32] \"GET /external/paper-menu-button/paper-menu-button-animations.html HTTP/1.1\" 200 -\n",
      "127.0.0.1 - - [29/Jun/2016 16:36:32] \"GET /external/neon-animation/animations/fade-out-animation.html HTTP/1.1\" 200 -\n",
      "127.0.0.1 - - [29/Jun/2016 16:36:32] \"GET /external/neon-animation/animations/fade-in-animation.html HTTP/1.1\" 200 -\n",
      "127.0.0.1 - - [29/Jun/2016 16:36:32] \"GET /external/promise-polyfill/promise-polyfill-lite.html HTTP/1.1\" 200 -\n",
      "127.0.0.1 - - [29/Jun/2016 16:36:32] \"GET /external/neon-animation/neon-animation-runner-behavior.html HTTP/1.1\" 200 -\n",
      "127.0.0.1 - - [29/Jun/2016 16:36:32] \"GET /external/iron-overlay-behavior/iron-overlay-behavior.html HTTP/1.1\" 200 -\n",
      "127.0.0.1 - - [29/Jun/2016 16:36:32] \"GET /external/neon-animation/animations/opaque-animation.html HTTP/1.1\" 200 -\n",
      "127.0.0.1 - - [29/Jun/2016 16:36:32] \"GET /external/iron-dropdown/iron-dropdown-scroll-manager.html HTTP/1.1\" 200 -\n",
      "127.0.0.1 - - [29/Jun/2016 16:36:32] \"GET /external/neon-animation/web-animations.html HTTP/1.1\" 200 -\n",
      "127.0.0.1 - - [29/Jun/2016 16:36:32] \"GET /external/neon-animation/neon-animation-behavior.html HTTP/1.1\" 200 -\n",
      "127.0.0.1 - - [29/Jun/2016 16:36:32] \"GET /external/promise-polyfill/Promise.js HTTP/1.1\" 200 -\n",
      "127.0.0.1 - - [29/Jun/2016 16:36:32] \"GET /external/neon-animation/neon-animatable-behavior.html HTTP/1.1\" 200 -\n",
      "127.0.0.1 - - [29/Jun/2016 16:36:32] \"GET /external/iron-overlay-behavior/iron-overlay-backdrop.html HTTP/1.1\" 200 -\n",
      "127.0.0.1 - - [29/Jun/2016 16:36:32] \"GET /external/iron-fit-behavior/iron-fit-behavior.html HTTP/1.1\" 200 -\n",
      "127.0.0.1 - - [29/Jun/2016 16:36:32] \"GET /external/iron-overlay-behavior/iron-overlay-manager.html HTTP/1.1\" 200 -\n",
      "127.0.0.1 - - [29/Jun/2016 16:36:32] \"GET /external/web-animations-js/web-animations-next-lite.min.js HTTP/1.1\" 200 -\n",
      "127.0.0.1 - - [29/Jun/2016 16:36:33] \"GET /data/runs HTTP/1.1\" 200 -\n",
      "^CTraceback (most recent call last):\n",
      "  File \"/Users/aaron/anaconda/bin/tensorboard\", line 11, in <module>\n",
      "    sys.exit(main())\n",
      "  File \"/Users/aaron/anaconda/lib/python2.7/site-packages/tensorflow/tensorboard/tensorboard.py\", line 108, in main\n",
      "    tb_server.serve_forever()\n",
      "  File \"/Users/aaron/anaconda/lib/python2.7/SocketServer.py\", line 236, in serve_forever\n",
      "    poll_interval)\n",
      "  File \"/Users/aaron/anaconda/lib/python2.7/SocketServer.py\", line 155, in _eintr_retry\n",
      "    return func(*args)\n",
      "KeyboardInterrupt\n",
      "\n"
     ]
    }
   ],
   "source": [
    "!tensorboard --logdir=log_simple_stats"
   ]
  },
  {
   "cell_type": "markdown",
   "metadata": {},
   "source": [
    "After startup, go to http://localhost:6006/#events to see the interface.\n",
    "\n",
    "To continue with the notebook, interrupt the kernel by using the square \"stop\" button or by typing `esc`, `i`, `i`."
   ]
  },
  {
   "cell_type": "code",
   "execution_count": null,
   "metadata": {
    "collapsed": true
   },
   "outputs": [],
   "source": []
  }
 ],
 "metadata": {
  "kernelspec": {
   "display_name": "Python 2",
   "language": "python",
   "name": "python2"
  },
  "language_info": {
   "codemirror_mode": {
    "name": "ipython",
    "version": 2
   },
   "file_extension": ".py",
   "mimetype": "text/x-python",
   "name": "python",
   "nbconvert_exporter": "python",
   "pygments_lexer": "ipython2",
   "version": "2.7.11"
  }
 },
 "nbformat": 4,
 "nbformat_minor": 0
}
