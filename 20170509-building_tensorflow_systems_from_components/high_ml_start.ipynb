{
 "cells": [
  {
   "cell_type": "code",
   "execution_count": null,
   "metadata": {
    "collapsed": false
   },
   "outputs": [],
   "source": [
    "!wget http://planspace.org/20170505-simple_dataset_us_presidential_party_and_gdp_growth/president_gdp.csv\n",
    "!wget http://planspace.org/20170502-canned_models_with_keras_in_tensorflow/n01882714_4157_koala_bear.jpg\n",
    "%load_ext rpy2.ipython\n",
    "!rm -rf tflinreg"
   ]
  },
  {
   "cell_type": "code",
   "execution_count": null,
   "metadata": {
    "collapsed": false
   },
   "outputs": [],
   "source": [
    "!head -3 president_gdp.csv"
   ]
  },
  {
   "cell_type": "markdown",
   "metadata": {},
   "source": [
    "Regression with `R`:"
   ]
  },
  {
   "cell_type": "code",
   "execution_count": null,
   "metadata": {
    "collapsed": false
   },
   "outputs": [],
   "source": [
    "%%R\n",
    "\n",
    "data = read.csv('president_gdp.csv')\n",
    "model = lm(growth ~ party, data)\n",
    "predict(model, data.frame(party=c('R', 'D')))"
   ]
  },
  {
   "cell_type": "markdown",
   "metadata": {},
   "source": [
    "Regression with `numpy`, `pandas`, and `scikit-learn`:"
   ]
  },
  {
   "cell_type": "code",
   "execution_count": null,
   "metadata": {
    "collapsed": true
   },
   "outputs": [],
   "source": [
    "import numpy as np\n",
    "import pandas as pd\n",
    "\n",
    "data = pd.read_csv('president_gdp.csv')\n",
    "party = data.party == 'D'\n",
    "party = np.expand_dims(party, axis=1)\n",
    "growth = data.growth"
   ]
  },
  {
   "cell_type": "code",
   "execution_count": null,
   "metadata": {
    "collapsed": false
   },
   "outputs": [],
   "source": [
    "import sklearn.linear_model\n",
    "\n",
    "model = sklearn.linear_model.LinearRegression()\n",
    "model.fit(X=party, y=growth)\n",
    "model.predict([[0], [1]])"
   ]
  },
  {
   "cell_type": "markdown",
   "metadata": {},
   "source": [
    "Regression with `tensorflow`:"
   ]
  },
  {
   "cell_type": "markdown",
   "metadata": {},
   "source": [
    "# high-level ML APIs... training an Estimator"
   ]
  },
  {
   "cell_type": "code",
   "execution_count": null,
   "metadata": {
    "collapsed": false
   },
   "outputs": [],
   "source": [
    "import tensorflow as tf\n",
    "\n",
    "party_col = tf.contrib.layers.real_valued_column(column_name='')\n",
    "model = tf.contrib.learn.LinearRegressor(feature_columns=[party_col],\n",
    "                                         model_dir='tflinreg')"
   ]
  },
  {
   "cell_type": "code",
   "execution_count": null,
   "metadata": {
    "collapsed": false
   },
   "outputs": [],
   "source": [
    "model.fit(x=party, y=growth, steps=1000)\n",
    "list(model.predict(np.array([[0], [1]])))"
   ]
  },
  {
   "cell_type": "code",
   "execution_count": null,
   "metadata": {
    "collapsed": false
   },
   "outputs": [],
   "source": [
    "!tensorboard --logdir tflinreg"
   ]
  },
  {
   "cell_type": "markdown",
   "metadata": {},
   "source": [
    "After startup, go to http://localhost:6006/ to see the interface.\n",
    "\n",
    "To continue with the notebook, interrupt the kernel by using the square \"stop\" button or by typing esc, i, i.\n",
    "\n",
    "---\n",
    "\n",
    "# high-level ML APIs... pre-trained Keras"
   ]
  },
  {
   "cell_type": "code",
   "execution_count": null,
   "metadata": {
    "collapsed": true
   },
   "outputs": [],
   "source": [
    "model = tf.contrib.keras.applications.ResNet50()"
   ]
  },
  {
   "cell_type": "code",
   "execution_count": null,
   "metadata": {
    "collapsed": false
   },
   "outputs": [],
   "source": [
    "filename = 'n01882714_4157_koala_bear.jpg'\n",
    "image = tf.contrib.keras.preprocessing.image.load_img(\n",
    "    filename, target_size=(224, 224))"
   ]
  },
  {
   "cell_type": "code",
   "execution_count": null,
   "metadata": {
    "collapsed": false
   },
   "outputs": [],
   "source": [
    "import matplotlib.pyplot as plt\n",
    "%matplotlib inline\n",
    "\n",
    "plt.imshow(image)"
   ]
  },
  {
   "cell_type": "code",
   "execution_count": null,
   "metadata": {
    "collapsed": true
   },
   "outputs": [],
   "source": [
    "array = tf.contrib.keras.preprocessing.image.img_to_array(image)\n",
    "array = np.expand_dims(array, axis=0)"
   ]
  },
  {
   "cell_type": "code",
   "execution_count": null,
   "metadata": {
    "collapsed": true
   },
   "outputs": [],
   "source": [
    "probabilities = model.predict(array)"
   ]
  },
  {
   "cell_type": "code",
   "execution_count": null,
   "metadata": {
    "collapsed": false
   },
   "outputs": [],
   "source": [
    "tf.contrib.keras.applications.resnet50.decode_predictions(probabilities)"
   ]
  },
  {
   "cell_type": "code",
   "execution_count": null,
   "metadata": {
    "collapsed": true
   },
   "outputs": [],
   "source": []
  }
 ],
 "metadata": {
  "kernelspec": {
   "display_name": "Python 2",
   "language": "python",
   "name": "python2"
  },
  "language_info": {
   "codemirror_mode": {
    "name": "ipython",
    "version": 2
   },
   "file_extension": ".py",
   "mimetype": "text/x-python",
   "name": "python",
   "nbconvert_exporter": "python",
   "pygments_lexer": "ipython2",
   "version": "2.7.11"
  }
 },
 "nbformat": 4,
 "nbformat_minor": 0
}
